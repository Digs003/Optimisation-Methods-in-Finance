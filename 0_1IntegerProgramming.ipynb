{
  "nbformat": 4,
  "nbformat_minor": 0,
  "metadata": {
    "colab": {
      "provenance": []
    },
    "kernelspec": {
      "name": "python3",
      "display_name": "Python 3"
    },
    "language_info": {
      "name": "python"
    }
  },
  "cells": [
    {
      "cell_type": "code",
      "source": [
        "!pip install pulp\n"
      ],
      "metadata": {
        "colab": {
          "base_uri": "https://localhost:8080/"
        },
        "id": "lNasWfWDyn5c",
        "outputId": "b5d95d7c-3239-4678-b796-967918823d14"
      },
      "execution_count": null,
      "outputs": [
        {
          "output_type": "stream",
          "name": "stdout",
          "text": [
            "Collecting pulp\n",
            "  Downloading PuLP-2.9.0-py3-none-any.whl.metadata (5.4 kB)\n",
            "Downloading PuLP-2.9.0-py3-none-any.whl (17.7 MB)\n",
            "\u001b[2K   \u001b[90m━━━━━━━━━━━━━━━━━━━━━━━━━━━━━━━━━━━━━━━━\u001b[0m \u001b[32m17.7/17.7 MB\u001b[0m \u001b[31m47.6 MB/s\u001b[0m eta \u001b[36m0:00:00\u001b[0m\n",
            "\u001b[?25hInstalling collected packages: pulp\n",
            "Successfully installed pulp-2.9.0\n"
          ]
        }
      ]
    },
    {
      "cell_type": "markdown",
      "source": [
        "# Balas' algorithm\n",
        "\n",
        "The given 0-1 programming reduces to the follwing 0-1 Linear Programming using Bala's Algorithm\n",
        "\n",
        "## Problem Statement\n",
        "Minimize the objective function:\n",
        "$$\n",
        "\\text{Minimize } 2a_1 + a_2\n",
        "$$\n",
        "\n",
        "Subject to the constraints:\n",
        "$$\n",
        "\\begin{align*}\n",
        "a_3 - a_4 &\\leq 45 \\\\\n",
        "a_1 &\\geq x_1 + y_1 + z_1 - 2 \\\\\n",
        "3a_1 &\\leq x_1 + y_1 + z_1 \\\\\n",
        "a_2 &\\geq x_2 + z_1 - 1 \\\\\n",
        "2a_2 &\\leq x_2 + z_1 \\\\\n",
        "a_3 &\\geq x_3 + y_3 - 1 \\\\\n",
        "2a_3 &\\leq x_3 + y_3 \\\\\n",
        "a_4 &\\geq y_4 + z_4 - 1 \\\\\n",
        "2a_4 &\\leq y_4 + z_4 \\\\\n",
        "\\end{align*}\n",
        "$$\n",
        "\n",
        "\n",
        "where all variables $ a_1, a_2, a_3, a_4, x_1, x_2, x_3, y_1, y_3, y_4, z_1, z_4 $ are binary, meaning they can only take values of 0 or 1.\n",
        "\n",
        "## Solution in Python using PuLP (for Binary Variables)\n",
        "\n",
        "To solve this problem in Python, we will use the `PuLP` library, which supports binary integer programming."
      ],
      "metadata": {
        "id": "RIm0hVMCynBL"
      }
    },
    {
      "cell_type": "code",
      "source": [
        "from pulp import LpMinimize, LpProblem, LpVariable, lpSum\n",
        "\n",
        "# Define the problem\n",
        "problem = LpProblem(\"Binary_LP\", LpMinimize)\n",
        "\n",
        "\n",
        "# Define binary variables\n",
        "a1 = LpVariable(\"a1\", cat=\"Binary\")\n",
        "a2 = LpVariable(\"a2\", cat=\"Binary\")\n",
        "a3 = LpVariable(\"a3\", cat=\"Binary\")\n",
        "a4 = LpVariable(\"a4\", cat=\"Binary\")\n",
        "x1 = LpVariable(\"x1\", cat=\"Binary\")\n",
        "x2 = LpVariable(\"x2\", cat=\"Binary\")\n",
        "x3 = LpVariable(\"x3\", cat=\"Binary\")\n",
        "y1 = LpVariable(\"y1\", cat=\"Binary\")\n",
        "y3 = LpVariable(\"y3\", cat=\"Binary\")\n",
        "y4 = LpVariable(\"y4\", cat=\"Binary\")\n",
        "z1 = LpVariable(\"z1\", cat=\"Binary\")\n",
        "z4 = LpVariable(\"z4\", cat=\"Binary\")\n",
        "\n",
        "# Define the objective function\n",
        "problem += 2 * a1 + a2, \"Objective\"\n",
        "\n",
        "# Define the constraints\n",
        "problem += a3 - a4 <= 45, \"Constraint_1\"\n",
        "problem += a1  >=  x1 + y1 + z1 -2, \"Constraint_2\"\n",
        "problem += 3 * a1 <= x1 + y1 + z1, \"Constraint_3\"\n",
        "problem += a2 >= x2 + z1 - 1, \"Constraint_4\"\n",
        "problem += 2 * a2 <= x2 + z1, \"Constraint_5\"\n",
        "problem += a3 >= x3 + y3 - 1, \"Constraint_6\"\n",
        "problem += 2 * a3 <= x3 + y3, \"Constraint_7\"\n",
        "problem += a4 >= y4 + z4 - 1, \"Constraint_8\"\n",
        "problem += 2 * a4 <= y4 + z4, \"Constraint_9\"\n",
        "\n",
        "# Solve the problem\n",
        "problem.solve()\n",
        "\n",
        "# Output the results\n",
        "print(\"Status:\", problem.status)\n",
        "print(\"Objective value:\", problem.objective.value())\n",
        "print(\"a1:\", a1.value())\n",
        "print(\"a2:\", a2.value())\n",
        "print(\"a3:\", a3.value())\n",
        "print(\"a4:\", a4.value())\n",
        "print(\"x1:\", x1.value())\n",
        "print(\"x2:\", x2.value())\n",
        "print(\"x3:\", x3.value())\n",
        "print(\"y1:\", y1.value())\n",
        "print(\"y3:\", y3.value())\n",
        "print(\"y4:\", y4.value())\n",
        "print(\"z1:\", z1.value())\n",
        "print(\"z4:\", z4.value())\n"
      ],
      "metadata": {
        "colab": {
          "base_uri": "https://localhost:8080/"
        },
        "id": "UwP-q7GNw-VF",
        "outputId": "0628e774-4e43-4cd2-9b46-ac59d65f1c29"
      },
      "execution_count": null,
      "outputs": [
        {
          "output_type": "stream",
          "name": "stdout",
          "text": [
            "Status: 1\n",
            "Objective value: 0.0\n",
            "a1: 0.0\n",
            "a2: 0.0\n",
            "a3: 0.0\n",
            "a4: 0.0\n",
            "x1: 0.0\n",
            "x2: 0.0\n",
            "x3: 0.0\n",
            "y1: 0.0\n",
            "y3: 0.0\n",
            "y4: 0.0\n",
            "z1: 0.0\n",
            "z4: 0.0\n"
          ]
        }
      ]
    },
    {
      "cell_type": "code",
      "source": [
        "\n",
        "x = 0\n",
        "y = 0\n",
        "z = 0\n",
        "\n",
        "print(f\"Optimal Values are as follows:\\n x = {x}, y = {y}, z = {z}\")\n"
      ],
      "metadata": {
        "colab": {
          "base_uri": "https://localhost:8080/"
        },
        "id": "Uk4MMR0_0exd",
        "outputId": "6fa2010d-a40a-44fc-9238-65b51d9914a7"
      },
      "execution_count": null,
      "outputs": [
        {
          "output_type": "stream",
          "name": "stdout",
          "text": [
            "Optimal Values are as follows:\n",
            " x = 0, y = 0, z = 0\n"
          ]
        }
      ]
    }
  ]
}