{
  "nbformat": 4,
  "nbformat_minor": 0,
  "metadata": {
    "colab": {
      "provenance": [],
      "toc_visible": true
    },
    "kernelspec": {
      "name": "python3",
      "display_name": "Python 3"
    },
    "language_info": {
      "name": "python"
    }
  },
  "cells": [
    {
      "cell_type": "markdown",
      "source": [
        "# Setting Up Dataset"
      ],
      "metadata": {
        "id": "nFbTTpD5m1x6"
      }
    },
    {
      "cell_type": "code",
      "execution_count": 1,
      "metadata": {
        "id": "otESJOrP6tS8"
      },
      "outputs": [],
      "source": [
        "import pandas as pd\n",
        "import numpy as np\n",
        "import matplotlib.pyplot as plt"
      ]
    },
    {
      "cell_type": "code",
      "source": [
        "df=pd.read_csv(\"/content/Test_Dataset_22CS30062.csv\")"
      ],
      "metadata": {
        "id": "F1dIbxqB62ry"
      },
      "execution_count": 2,
      "outputs": []
    },
    {
      "cell_type": "code",
      "source": [
        "df['Date']=pd.to_datetime(df['Date'])"
      ],
      "metadata": {
        "id": "kYt9QymS62uk"
      },
      "execution_count": 3,
      "outputs": []
    },
    {
      "cell_type": "code",
      "source": [
        "df=df.sort_values(by=['Asset','Date'])"
      ],
      "metadata": {
        "id": "cUtk8ZIx62xO"
      },
      "execution_count": 4,
      "outputs": []
    },
    {
      "cell_type": "code",
      "source": [
        "df['Rate of Return (%)']=df.groupby('Asset')['Close Price'].pct_change()*100"
      ],
      "metadata": {
        "id": "hnJNRU_67XnI"
      },
      "execution_count": 5,
      "outputs": []
    },
    {
      "cell_type": "code",
      "source": [
        "df.tail(20)"
      ],
      "metadata": {
        "colab": {
          "base_uri": "https://localhost:8080/",
          "height": 1000
        },
        "id": "rUgcvmNb62zx",
        "outputId": "7705719c-a0fe-4283-b2ab-5cbfa01d3074"
      },
      "execution_count": 6,
      "outputs": [
        {
          "output_type": "execute_result",
          "data": {
            "text/plain": [
              "         Date  Open Price  High Price  Low Price  Close Price         WAP  \\\n",
              "2  2024-10-04      510.00      517.35     501.60       503.45  510.604345   \n",
              "3  2024-10-07      507.85      514.80     507.00       510.50  511.141840   \n",
              "4  2024-10-08      510.50      512.50     506.00       507.90  508.701721   \n",
              "5  2024-10-09      513.95      513.95     490.60       491.80  499.909186   \n",
              "6  2024-10-10      495.70      495.70     489.55       492.00  493.279637   \n",
              "7  2024-10-11      492.05      493.90     487.35       488.45  489.098169   \n",
              "8  2024-10-14      491.25      498.90     488.60       496.85  494.704651   \n",
              "9  2024-10-15      497.15      499.40     494.50       498.55  497.784492   \n",
              "10 2024-10-16      497.00      498.90     492.45       493.20  496.283850   \n",
              "11 2024-10-17      494.65      494.90     487.90       488.80  490.743644   \n",
              "12 2024-10-18      488.90      491.30     478.35       486.65  484.023659   \n",
              "13 2024-10-21      486.65      487.50     477.50       483.65  483.596740   \n",
              "14 2024-10-22      483.65      488.25     480.75       481.70  483.819091   \n",
              "15 2024-10-23      481.65      483.15     479.45       480.55  481.703997   \n",
              "16 2024-10-24      482.95      482.95     470.00       471.85  475.008520   \n",
              "17 2024-10-25      475.95      493.50     474.50       482.10  486.357576   \n",
              "18 2024-10-28      480.40      485.85     476.00       484.10  481.849283   \n",
              "19 2024-10-29      485.00      489.40     481.35       487.95  485.253406   \n",
              "20 2024-10-30      488.00      493.30     486.65       491.45  490.584099   \n",
              "21 2024-10-31      493.55      493.55     485.00       488.50  488.490986   \n",
              "\n",
              "    No.of Shares  No. of Trades  Total Turnover (Rs.)  Deliverable Quantity  \\\n",
              "2        1345060          29756           686793480.0                354949   \n",
              "3         522787          12217           267218309.0                217036   \n",
              "4         419886          14982           213596731.0                175644   \n",
              "5         642674          14425           321278636.0                360009   \n",
              "6         757543          20769           373680536.0                464430   \n",
              "7         633660          13409           309921946.0                244655   \n",
              "8         406269          14138           200983164.0                206301   \n",
              "9         202364           4383           100733661.0                101500   \n",
              "10        355755          10307           176555461.0                225539   \n",
              "11        295948          13193           145234600.0                149449   \n",
              "12        521102           9075           252225697.0                165561   \n",
              "13        384452           6475           185919734.0                284834   \n",
              "14        435070          16060           210495172.0                224864   \n",
              "15        413185           5900           199032866.0                303602   \n",
              "16        551067          25137           261761520.0                312119   \n",
              "17       1704180          35178           828840854.0                532830   \n",
              "18        178613           5320            86064546.0                 56134   \n",
              "19        297266           4312           144249339.0                131349   \n",
              "20        282625           9092           138651331.0                110567   \n",
              "21        585685          11353           286101843.0                332987   \n",
              "\n",
              "    % Deli. Qty to Traded Qty  Spread High-Low  Spread Close-Open    Asset  \\\n",
              "2                       26.39            15.75              -6.55  ITC.BSE   \n",
              "3                       41.52             7.80               2.65  ITC.BSE   \n",
              "4                       41.83             6.50              -2.60  ITC.BSE   \n",
              "5                       56.02            23.35             -22.15  ITC.BSE   \n",
              "6                       61.31             6.15              -3.70  ITC.BSE   \n",
              "7                       38.61             6.55              -3.60  ITC.BSE   \n",
              "8                       50.78            10.30               5.60  ITC.BSE   \n",
              "9                       50.16             4.90               1.40  ITC.BSE   \n",
              "10                      63.40             6.45              -3.80  ITC.BSE   \n",
              "11                      50.50             7.00              -5.85  ITC.BSE   \n",
              "12                      31.77            12.95              -2.25  ITC.BSE   \n",
              "13                      74.09            10.00              -3.00  ITC.BSE   \n",
              "14                      51.68             7.50              -1.95  ITC.BSE   \n",
              "15                      73.48             3.70              -1.10  ITC.BSE   \n",
              "16                      56.64            12.95             -11.10  ITC.BSE   \n",
              "17                      31.27            19.00               6.15  ITC.BSE   \n",
              "18                      31.43             9.85               3.70  ITC.BSE   \n",
              "19                      44.19             8.05               2.95  ITC.BSE   \n",
              "20                      39.12             6.65               3.45  ITC.BSE   \n",
              "21                      56.85             8.55              -5.05  ITC.BSE   \n",
              "\n",
              "    Rate of Return (%)  \n",
              "2            -1.861598  \n",
              "3             1.400338  \n",
              "4            -0.509305  \n",
              "5            -3.169915  \n",
              "6             0.040667  \n",
              "7            -0.721545  \n",
              "8             1.719726  \n",
              "9             0.342156  \n",
              "10           -1.073112  \n",
              "11           -0.892133  \n",
              "12           -0.439853  \n",
              "13           -0.616459  \n",
              "14           -0.403184  \n",
              "15           -0.238738  \n",
              "16           -1.810426  \n",
              "17            2.172301  \n",
              "18            0.414852  \n",
              "19            0.795290  \n",
              "20            0.717287  \n",
              "21           -0.600265  "
            ],
            "text/html": [
              "\n",
              "  <div id=\"df-4b22b4e3-7f2b-460e-96a4-404988459b55\" class=\"colab-df-container\">\n",
              "    <div>\n",
              "<style scoped>\n",
              "    .dataframe tbody tr th:only-of-type {\n",
              "        vertical-align: middle;\n",
              "    }\n",
              "\n",
              "    .dataframe tbody tr th {\n",
              "        vertical-align: top;\n",
              "    }\n",
              "\n",
              "    .dataframe thead th {\n",
              "        text-align: right;\n",
              "    }\n",
              "</style>\n",
              "<table border=\"1\" class=\"dataframe\">\n",
              "  <thead>\n",
              "    <tr style=\"text-align: right;\">\n",
              "      <th></th>\n",
              "      <th>Date</th>\n",
              "      <th>Open Price</th>\n",
              "      <th>High Price</th>\n",
              "      <th>Low Price</th>\n",
              "      <th>Close Price</th>\n",
              "      <th>WAP</th>\n",
              "      <th>No.of Shares</th>\n",
              "      <th>No. of Trades</th>\n",
              "      <th>Total Turnover (Rs.)</th>\n",
              "      <th>Deliverable Quantity</th>\n",
              "      <th>% Deli. Qty to Traded Qty</th>\n",
              "      <th>Spread High-Low</th>\n",
              "      <th>Spread Close-Open</th>\n",
              "      <th>Asset</th>\n",
              "      <th>Rate of Return (%)</th>\n",
              "    </tr>\n",
              "  </thead>\n",
              "  <tbody>\n",
              "    <tr>\n",
              "      <th>2</th>\n",
              "      <td>2024-10-04</td>\n",
              "      <td>510.00</td>\n",
              "      <td>517.35</td>\n",
              "      <td>501.60</td>\n",
              "      <td>503.45</td>\n",
              "      <td>510.604345</td>\n",
              "      <td>1345060</td>\n",
              "      <td>29756</td>\n",
              "      <td>686793480.0</td>\n",
              "      <td>354949</td>\n",
              "      <td>26.39</td>\n",
              "      <td>15.75</td>\n",
              "      <td>-6.55</td>\n",
              "      <td>ITC.BSE</td>\n",
              "      <td>-1.861598</td>\n",
              "    </tr>\n",
              "    <tr>\n",
              "      <th>3</th>\n",
              "      <td>2024-10-07</td>\n",
              "      <td>507.85</td>\n",
              "      <td>514.80</td>\n",
              "      <td>507.00</td>\n",
              "      <td>510.50</td>\n",
              "      <td>511.141840</td>\n",
              "      <td>522787</td>\n",
              "      <td>12217</td>\n",
              "      <td>267218309.0</td>\n",
              "      <td>217036</td>\n",
              "      <td>41.52</td>\n",
              "      <td>7.80</td>\n",
              "      <td>2.65</td>\n",
              "      <td>ITC.BSE</td>\n",
              "      <td>1.400338</td>\n",
              "    </tr>\n",
              "    <tr>\n",
              "      <th>4</th>\n",
              "      <td>2024-10-08</td>\n",
              "      <td>510.50</td>\n",
              "      <td>512.50</td>\n",
              "      <td>506.00</td>\n",
              "      <td>507.90</td>\n",
              "      <td>508.701721</td>\n",
              "      <td>419886</td>\n",
              "      <td>14982</td>\n",
              "      <td>213596731.0</td>\n",
              "      <td>175644</td>\n",
              "      <td>41.83</td>\n",
              "      <td>6.50</td>\n",
              "      <td>-2.60</td>\n",
              "      <td>ITC.BSE</td>\n",
              "      <td>-0.509305</td>\n",
              "    </tr>\n",
              "    <tr>\n",
              "      <th>5</th>\n",
              "      <td>2024-10-09</td>\n",
              "      <td>513.95</td>\n",
              "      <td>513.95</td>\n",
              "      <td>490.60</td>\n",
              "      <td>491.80</td>\n",
              "      <td>499.909186</td>\n",
              "      <td>642674</td>\n",
              "      <td>14425</td>\n",
              "      <td>321278636.0</td>\n",
              "      <td>360009</td>\n",
              "      <td>56.02</td>\n",
              "      <td>23.35</td>\n",
              "      <td>-22.15</td>\n",
              "      <td>ITC.BSE</td>\n",
              "      <td>-3.169915</td>\n",
              "    </tr>\n",
              "    <tr>\n",
              "      <th>6</th>\n",
              "      <td>2024-10-10</td>\n",
              "      <td>495.70</td>\n",
              "      <td>495.70</td>\n",
              "      <td>489.55</td>\n",
              "      <td>492.00</td>\n",
              "      <td>493.279637</td>\n",
              "      <td>757543</td>\n",
              "      <td>20769</td>\n",
              "      <td>373680536.0</td>\n",
              "      <td>464430</td>\n",
              "      <td>61.31</td>\n",
              "      <td>6.15</td>\n",
              "      <td>-3.70</td>\n",
              "      <td>ITC.BSE</td>\n",
              "      <td>0.040667</td>\n",
              "    </tr>\n",
              "    <tr>\n",
              "      <th>7</th>\n",
              "      <td>2024-10-11</td>\n",
              "      <td>492.05</td>\n",
              "      <td>493.90</td>\n",
              "      <td>487.35</td>\n",
              "      <td>488.45</td>\n",
              "      <td>489.098169</td>\n",
              "      <td>633660</td>\n",
              "      <td>13409</td>\n",
              "      <td>309921946.0</td>\n",
              "      <td>244655</td>\n",
              "      <td>38.61</td>\n",
              "      <td>6.55</td>\n",
              "      <td>-3.60</td>\n",
              "      <td>ITC.BSE</td>\n",
              "      <td>-0.721545</td>\n",
              "    </tr>\n",
              "    <tr>\n",
              "      <th>8</th>\n",
              "      <td>2024-10-14</td>\n",
              "      <td>491.25</td>\n",
              "      <td>498.90</td>\n",
              "      <td>488.60</td>\n",
              "      <td>496.85</td>\n",
              "      <td>494.704651</td>\n",
              "      <td>406269</td>\n",
              "      <td>14138</td>\n",
              "      <td>200983164.0</td>\n",
              "      <td>206301</td>\n",
              "      <td>50.78</td>\n",
              "      <td>10.30</td>\n",
              "      <td>5.60</td>\n",
              "      <td>ITC.BSE</td>\n",
              "      <td>1.719726</td>\n",
              "    </tr>\n",
              "    <tr>\n",
              "      <th>9</th>\n",
              "      <td>2024-10-15</td>\n",
              "      <td>497.15</td>\n",
              "      <td>499.40</td>\n",
              "      <td>494.50</td>\n",
              "      <td>498.55</td>\n",
              "      <td>497.784492</td>\n",
              "      <td>202364</td>\n",
              "      <td>4383</td>\n",
              "      <td>100733661.0</td>\n",
              "      <td>101500</td>\n",
              "      <td>50.16</td>\n",
              "      <td>4.90</td>\n",
              "      <td>1.40</td>\n",
              "      <td>ITC.BSE</td>\n",
              "      <td>0.342156</td>\n",
              "    </tr>\n",
              "    <tr>\n",
              "      <th>10</th>\n",
              "      <td>2024-10-16</td>\n",
              "      <td>497.00</td>\n",
              "      <td>498.90</td>\n",
              "      <td>492.45</td>\n",
              "      <td>493.20</td>\n",
              "      <td>496.283850</td>\n",
              "      <td>355755</td>\n",
              "      <td>10307</td>\n",
              "      <td>176555461.0</td>\n",
              "      <td>225539</td>\n",
              "      <td>63.40</td>\n",
              "      <td>6.45</td>\n",
              "      <td>-3.80</td>\n",
              "      <td>ITC.BSE</td>\n",
              "      <td>-1.073112</td>\n",
              "    </tr>\n",
              "    <tr>\n",
              "      <th>11</th>\n",
              "      <td>2024-10-17</td>\n",
              "      <td>494.65</td>\n",
              "      <td>494.90</td>\n",
              "      <td>487.90</td>\n",
              "      <td>488.80</td>\n",
              "      <td>490.743644</td>\n",
              "      <td>295948</td>\n",
              "      <td>13193</td>\n",
              "      <td>145234600.0</td>\n",
              "      <td>149449</td>\n",
              "      <td>50.50</td>\n",
              "      <td>7.00</td>\n",
              "      <td>-5.85</td>\n",
              "      <td>ITC.BSE</td>\n",
              "      <td>-0.892133</td>\n",
              "    </tr>\n",
              "    <tr>\n",
              "      <th>12</th>\n",
              "      <td>2024-10-18</td>\n",
              "      <td>488.90</td>\n",
              "      <td>491.30</td>\n",
              "      <td>478.35</td>\n",
              "      <td>486.65</td>\n",
              "      <td>484.023659</td>\n",
              "      <td>521102</td>\n",
              "      <td>9075</td>\n",
              "      <td>252225697.0</td>\n",
              "      <td>165561</td>\n",
              "      <td>31.77</td>\n",
              "      <td>12.95</td>\n",
              "      <td>-2.25</td>\n",
              "      <td>ITC.BSE</td>\n",
              "      <td>-0.439853</td>\n",
              "    </tr>\n",
              "    <tr>\n",
              "      <th>13</th>\n",
              "      <td>2024-10-21</td>\n",
              "      <td>486.65</td>\n",
              "      <td>487.50</td>\n",
              "      <td>477.50</td>\n",
              "      <td>483.65</td>\n",
              "      <td>483.596740</td>\n",
              "      <td>384452</td>\n",
              "      <td>6475</td>\n",
              "      <td>185919734.0</td>\n",
              "      <td>284834</td>\n",
              "      <td>74.09</td>\n",
              "      <td>10.00</td>\n",
              "      <td>-3.00</td>\n",
              "      <td>ITC.BSE</td>\n",
              "      <td>-0.616459</td>\n",
              "    </tr>\n",
              "    <tr>\n",
              "      <th>14</th>\n",
              "      <td>2024-10-22</td>\n",
              "      <td>483.65</td>\n",
              "      <td>488.25</td>\n",
              "      <td>480.75</td>\n",
              "      <td>481.70</td>\n",
              "      <td>483.819091</td>\n",
              "      <td>435070</td>\n",
              "      <td>16060</td>\n",
              "      <td>210495172.0</td>\n",
              "      <td>224864</td>\n",
              "      <td>51.68</td>\n",
              "      <td>7.50</td>\n",
              "      <td>-1.95</td>\n",
              "      <td>ITC.BSE</td>\n",
              "      <td>-0.403184</td>\n",
              "    </tr>\n",
              "    <tr>\n",
              "      <th>15</th>\n",
              "      <td>2024-10-23</td>\n",
              "      <td>481.65</td>\n",
              "      <td>483.15</td>\n",
              "      <td>479.45</td>\n",
              "      <td>480.55</td>\n",
              "      <td>481.703997</td>\n",
              "      <td>413185</td>\n",
              "      <td>5900</td>\n",
              "      <td>199032866.0</td>\n",
              "      <td>303602</td>\n",
              "      <td>73.48</td>\n",
              "      <td>3.70</td>\n",
              "      <td>-1.10</td>\n",
              "      <td>ITC.BSE</td>\n",
              "      <td>-0.238738</td>\n",
              "    </tr>\n",
              "    <tr>\n",
              "      <th>16</th>\n",
              "      <td>2024-10-24</td>\n",
              "      <td>482.95</td>\n",
              "      <td>482.95</td>\n",
              "      <td>470.00</td>\n",
              "      <td>471.85</td>\n",
              "      <td>475.008520</td>\n",
              "      <td>551067</td>\n",
              "      <td>25137</td>\n",
              "      <td>261761520.0</td>\n",
              "      <td>312119</td>\n",
              "      <td>56.64</td>\n",
              "      <td>12.95</td>\n",
              "      <td>-11.10</td>\n",
              "      <td>ITC.BSE</td>\n",
              "      <td>-1.810426</td>\n",
              "    </tr>\n",
              "    <tr>\n",
              "      <th>17</th>\n",
              "      <td>2024-10-25</td>\n",
              "      <td>475.95</td>\n",
              "      <td>493.50</td>\n",
              "      <td>474.50</td>\n",
              "      <td>482.10</td>\n",
              "      <td>486.357576</td>\n",
              "      <td>1704180</td>\n",
              "      <td>35178</td>\n",
              "      <td>828840854.0</td>\n",
              "      <td>532830</td>\n",
              "      <td>31.27</td>\n",
              "      <td>19.00</td>\n",
              "      <td>6.15</td>\n",
              "      <td>ITC.BSE</td>\n",
              "      <td>2.172301</td>\n",
              "    </tr>\n",
              "    <tr>\n",
              "      <th>18</th>\n",
              "      <td>2024-10-28</td>\n",
              "      <td>480.40</td>\n",
              "      <td>485.85</td>\n",
              "      <td>476.00</td>\n",
              "      <td>484.10</td>\n",
              "      <td>481.849283</td>\n",
              "      <td>178613</td>\n",
              "      <td>5320</td>\n",
              "      <td>86064546.0</td>\n",
              "      <td>56134</td>\n",
              "      <td>31.43</td>\n",
              "      <td>9.85</td>\n",
              "      <td>3.70</td>\n",
              "      <td>ITC.BSE</td>\n",
              "      <td>0.414852</td>\n",
              "    </tr>\n",
              "    <tr>\n",
              "      <th>19</th>\n",
              "      <td>2024-10-29</td>\n",
              "      <td>485.00</td>\n",
              "      <td>489.40</td>\n",
              "      <td>481.35</td>\n",
              "      <td>487.95</td>\n",
              "      <td>485.253406</td>\n",
              "      <td>297266</td>\n",
              "      <td>4312</td>\n",
              "      <td>144249339.0</td>\n",
              "      <td>131349</td>\n",
              "      <td>44.19</td>\n",
              "      <td>8.05</td>\n",
              "      <td>2.95</td>\n",
              "      <td>ITC.BSE</td>\n",
              "      <td>0.795290</td>\n",
              "    </tr>\n",
              "    <tr>\n",
              "      <th>20</th>\n",
              "      <td>2024-10-30</td>\n",
              "      <td>488.00</td>\n",
              "      <td>493.30</td>\n",
              "      <td>486.65</td>\n",
              "      <td>491.45</td>\n",
              "      <td>490.584099</td>\n",
              "      <td>282625</td>\n",
              "      <td>9092</td>\n",
              "      <td>138651331.0</td>\n",
              "      <td>110567</td>\n",
              "      <td>39.12</td>\n",
              "      <td>6.65</td>\n",
              "      <td>3.45</td>\n",
              "      <td>ITC.BSE</td>\n",
              "      <td>0.717287</td>\n",
              "    </tr>\n",
              "    <tr>\n",
              "      <th>21</th>\n",
              "      <td>2024-10-31</td>\n",
              "      <td>493.55</td>\n",
              "      <td>493.55</td>\n",
              "      <td>485.00</td>\n",
              "      <td>488.50</td>\n",
              "      <td>488.490986</td>\n",
              "      <td>585685</td>\n",
              "      <td>11353</td>\n",
              "      <td>286101843.0</td>\n",
              "      <td>332987</td>\n",
              "      <td>56.85</td>\n",
              "      <td>8.55</td>\n",
              "      <td>-5.05</td>\n",
              "      <td>ITC.BSE</td>\n",
              "      <td>-0.600265</td>\n",
              "    </tr>\n",
              "  </tbody>\n",
              "</table>\n",
              "</div>\n",
              "    <div class=\"colab-df-buttons\">\n",
              "\n",
              "  <div class=\"colab-df-container\">\n",
              "    <button class=\"colab-df-convert\" onclick=\"convertToInteractive('df-4b22b4e3-7f2b-460e-96a4-404988459b55')\"\n",
              "            title=\"Convert this dataframe to an interactive table.\"\n",
              "            style=\"display:none;\">\n",
              "\n",
              "  <svg xmlns=\"http://www.w3.org/2000/svg\" height=\"24px\" viewBox=\"0 -960 960 960\">\n",
              "    <path d=\"M120-120v-720h720v720H120Zm60-500h600v-160H180v160Zm220 220h160v-160H400v160Zm0 220h160v-160H400v160ZM180-400h160v-160H180v160Zm440 0h160v-160H620v160ZM180-180h160v-160H180v160Zm440 0h160v-160H620v160Z\"/>\n",
              "  </svg>\n",
              "    </button>\n",
              "\n",
              "  <style>\n",
              "    .colab-df-container {\n",
              "      display:flex;\n",
              "      gap: 12px;\n",
              "    }\n",
              "\n",
              "    .colab-df-convert {\n",
              "      background-color: #E8F0FE;\n",
              "      border: none;\n",
              "      border-radius: 50%;\n",
              "      cursor: pointer;\n",
              "      display: none;\n",
              "      fill: #1967D2;\n",
              "      height: 32px;\n",
              "      padding: 0 0 0 0;\n",
              "      width: 32px;\n",
              "    }\n",
              "\n",
              "    .colab-df-convert:hover {\n",
              "      background-color: #E2EBFA;\n",
              "      box-shadow: 0px 1px 2px rgba(60, 64, 67, 0.3), 0px 1px 3px 1px rgba(60, 64, 67, 0.15);\n",
              "      fill: #174EA6;\n",
              "    }\n",
              "\n",
              "    .colab-df-buttons div {\n",
              "      margin-bottom: 4px;\n",
              "    }\n",
              "\n",
              "    [theme=dark] .colab-df-convert {\n",
              "      background-color: #3B4455;\n",
              "      fill: #D2E3FC;\n",
              "    }\n",
              "\n",
              "    [theme=dark] .colab-df-convert:hover {\n",
              "      background-color: #434B5C;\n",
              "      box-shadow: 0px 1px 3px 1px rgba(0, 0, 0, 0.15);\n",
              "      filter: drop-shadow(0px 1px 2px rgba(0, 0, 0, 0.3));\n",
              "      fill: #FFFFFF;\n",
              "    }\n",
              "  </style>\n",
              "\n",
              "    <script>\n",
              "      const buttonEl =\n",
              "        document.querySelector('#df-4b22b4e3-7f2b-460e-96a4-404988459b55 button.colab-df-convert');\n",
              "      buttonEl.style.display =\n",
              "        google.colab.kernel.accessAllowed ? 'block' : 'none';\n",
              "\n",
              "      async function convertToInteractive(key) {\n",
              "        const element = document.querySelector('#df-4b22b4e3-7f2b-460e-96a4-404988459b55');\n",
              "        const dataTable =\n",
              "          await google.colab.kernel.invokeFunction('convertToInteractive',\n",
              "                                                    [key], {});\n",
              "        if (!dataTable) return;\n",
              "\n",
              "        const docLinkHtml = 'Like what you see? Visit the ' +\n",
              "          '<a target=\"_blank\" href=https://colab.research.google.com/notebooks/data_table.ipynb>data table notebook</a>'\n",
              "          + ' to learn more about interactive tables.';\n",
              "        element.innerHTML = '';\n",
              "        dataTable['output_type'] = 'display_data';\n",
              "        await google.colab.output.renderOutput(dataTable, element);\n",
              "        const docLink = document.createElement('div');\n",
              "        docLink.innerHTML = docLinkHtml;\n",
              "        element.appendChild(docLink);\n",
              "      }\n",
              "    </script>\n",
              "  </div>\n",
              "\n",
              "\n",
              "<div id=\"df-4033973f-3e3f-4db2-a572-e229fcb8937b\">\n",
              "  <button class=\"colab-df-quickchart\" onclick=\"quickchart('df-4033973f-3e3f-4db2-a572-e229fcb8937b')\"\n",
              "            title=\"Suggest charts\"\n",
              "            style=\"display:none;\">\n",
              "\n",
              "<svg xmlns=\"http://www.w3.org/2000/svg\" height=\"24px\"viewBox=\"0 0 24 24\"\n",
              "     width=\"24px\">\n",
              "    <g>\n",
              "        <path d=\"M19 3H5c-1.1 0-2 .9-2 2v14c0 1.1.9 2 2 2h14c1.1 0 2-.9 2-2V5c0-1.1-.9-2-2-2zM9 17H7v-7h2v7zm4 0h-2V7h2v10zm4 0h-2v-4h2v4z\"/>\n",
              "    </g>\n",
              "</svg>\n",
              "  </button>\n",
              "\n",
              "<style>\n",
              "  .colab-df-quickchart {\n",
              "      --bg-color: #E8F0FE;\n",
              "      --fill-color: #1967D2;\n",
              "      --hover-bg-color: #E2EBFA;\n",
              "      --hover-fill-color: #174EA6;\n",
              "      --disabled-fill-color: #AAA;\n",
              "      --disabled-bg-color: #DDD;\n",
              "  }\n",
              "\n",
              "  [theme=dark] .colab-df-quickchart {\n",
              "      --bg-color: #3B4455;\n",
              "      --fill-color: #D2E3FC;\n",
              "      --hover-bg-color: #434B5C;\n",
              "      --hover-fill-color: #FFFFFF;\n",
              "      --disabled-bg-color: #3B4455;\n",
              "      --disabled-fill-color: #666;\n",
              "  }\n",
              "\n",
              "  .colab-df-quickchart {\n",
              "    background-color: var(--bg-color);\n",
              "    border: none;\n",
              "    border-radius: 50%;\n",
              "    cursor: pointer;\n",
              "    display: none;\n",
              "    fill: var(--fill-color);\n",
              "    height: 32px;\n",
              "    padding: 0;\n",
              "    width: 32px;\n",
              "  }\n",
              "\n",
              "  .colab-df-quickchart:hover {\n",
              "    background-color: var(--hover-bg-color);\n",
              "    box-shadow: 0 1px 2px rgba(60, 64, 67, 0.3), 0 1px 3px 1px rgba(60, 64, 67, 0.15);\n",
              "    fill: var(--button-hover-fill-color);\n",
              "  }\n",
              "\n",
              "  .colab-df-quickchart-complete:disabled,\n",
              "  .colab-df-quickchart-complete:disabled:hover {\n",
              "    background-color: var(--disabled-bg-color);\n",
              "    fill: var(--disabled-fill-color);\n",
              "    box-shadow: none;\n",
              "  }\n",
              "\n",
              "  .colab-df-spinner {\n",
              "    border: 2px solid var(--fill-color);\n",
              "    border-color: transparent;\n",
              "    border-bottom-color: var(--fill-color);\n",
              "    animation:\n",
              "      spin 1s steps(1) infinite;\n",
              "  }\n",
              "\n",
              "  @keyframes spin {\n",
              "    0% {\n",
              "      border-color: transparent;\n",
              "      border-bottom-color: var(--fill-color);\n",
              "      border-left-color: var(--fill-color);\n",
              "    }\n",
              "    20% {\n",
              "      border-color: transparent;\n",
              "      border-left-color: var(--fill-color);\n",
              "      border-top-color: var(--fill-color);\n",
              "    }\n",
              "    30% {\n",
              "      border-color: transparent;\n",
              "      border-left-color: var(--fill-color);\n",
              "      border-top-color: var(--fill-color);\n",
              "      border-right-color: var(--fill-color);\n",
              "    }\n",
              "    40% {\n",
              "      border-color: transparent;\n",
              "      border-right-color: var(--fill-color);\n",
              "      border-top-color: var(--fill-color);\n",
              "    }\n",
              "    60% {\n",
              "      border-color: transparent;\n",
              "      border-right-color: var(--fill-color);\n",
              "    }\n",
              "    80% {\n",
              "      border-color: transparent;\n",
              "      border-right-color: var(--fill-color);\n",
              "      border-bottom-color: var(--fill-color);\n",
              "    }\n",
              "    90% {\n",
              "      border-color: transparent;\n",
              "      border-bottom-color: var(--fill-color);\n",
              "    }\n",
              "  }\n",
              "</style>\n",
              "\n",
              "  <script>\n",
              "    async function quickchart(key) {\n",
              "      const quickchartButtonEl =\n",
              "        document.querySelector('#' + key + ' button');\n",
              "      quickchartButtonEl.disabled = true;  // To prevent multiple clicks.\n",
              "      quickchartButtonEl.classList.add('colab-df-spinner');\n",
              "      try {\n",
              "        const charts = await google.colab.kernel.invokeFunction(\n",
              "            'suggestCharts', [key], {});\n",
              "      } catch (error) {\n",
              "        console.error('Error during call to suggestCharts:', error);\n",
              "      }\n",
              "      quickchartButtonEl.classList.remove('colab-df-spinner');\n",
              "      quickchartButtonEl.classList.add('colab-df-quickchart-complete');\n",
              "    }\n",
              "    (() => {\n",
              "      let quickchartButtonEl =\n",
              "        document.querySelector('#df-4033973f-3e3f-4db2-a572-e229fcb8937b button');\n",
              "      quickchartButtonEl.style.display =\n",
              "        google.colab.kernel.accessAllowed ? 'block' : 'none';\n",
              "    })();\n",
              "  </script>\n",
              "</div>\n",
              "\n",
              "    </div>\n",
              "  </div>\n"
            ],
            "application/vnd.google.colaboratory.intrinsic+json": {
              "type": "dataframe",
              "summary": "{\n  \"name\": \"df\",\n  \"rows\": 20,\n  \"fields\": [\n    {\n      \"column\": \"Date\",\n      \"properties\": {\n        \"dtype\": \"date\",\n        \"min\": \"2024-10-04 00:00:00\",\n        \"max\": \"2024-10-31 00:00:00\",\n        \"num_unique_values\": 20,\n        \"samples\": [\n          \"2024-10-04 00:00:00\",\n          \"2024-10-29 00:00:00\",\n          \"2024-10-25 00:00:00\"\n        ],\n        \"semantic_type\": \"\",\n        \"description\": \"\"\n      }\n    },\n    {\n      \"column\": \"Open Price\",\n      \"properties\": {\n        \"dtype\": \"number\",\n        \"std\": 10.795973908433606,\n        \"min\": 475.95,\n        \"max\": 513.95,\n        \"num_unique_values\": 20,\n        \"samples\": [\n          510.0,\n          485.0,\n          475.95\n        ],\n        \"semantic_type\": \"\",\n        \"description\": \"\"\n      }\n    },\n    {\n      \"column\": \"High Price\",\n      \"properties\": {\n        \"dtype\": \"number\",\n        \"std\": 10.487241308521416,\n        \"min\": 482.95,\n        \"max\": 517.35,\n        \"num_unique_values\": 19,\n        \"samples\": [\n          517.35,\n          493.9,\n          488.25\n        ],\n        \"semantic_type\": \"\",\n        \"description\": \"\"\n      }\n    },\n    {\n      \"column\": \"Low Price\",\n      \"properties\": {\n        \"dtype\": \"number\",\n        \"std\": 10.118507014897324,\n        \"min\": 470.0,\n        \"max\": 507.0,\n        \"num_unique_values\": 20,\n        \"samples\": [\n          501.6,\n          481.35,\n          474.5\n        ],\n        \"semantic_type\": \"\",\n        \"description\": \"\"\n      }\n    },\n    {\n      \"column\": \"Close Price\",\n      \"properties\": {\n        \"dtype\": \"number\",\n        \"std\": 9.466964722266134,\n        \"min\": 471.85,\n        \"max\": 510.5,\n        \"num_unique_values\": 20,\n        \"samples\": [\n          503.45,\n          487.95,\n          482.1\n        ],\n        \"semantic_type\": \"\",\n        \"description\": \"\"\n      }\n    },\n    {\n      \"column\": \"WAP\",\n      \"properties\": {\n        \"dtype\": \"number\",\n        \"std\": 10.033877948657477,\n        \"min\": 475.00851983515616,\n        \"max\": 511.14183979326185,\n        \"num_unique_values\": 20,\n        \"samples\": [\n          510.6043447875931,\n          485.25340604038126,\n          486.3575760776444\n        ],\n        \"semantic_type\": \"\",\n        \"description\": \"\"\n      }\n    },\n    {\n      \"column\": \"No.of Shares\",\n      \"properties\": {\n        \"dtype\": \"number\",\n        \"std\": 371263,\n        \"min\": 178613,\n        \"max\": 1704180,\n        \"num_unique_values\": 20,\n        \"samples\": [\n          1345060,\n          297266,\n          1704180\n        ],\n        \"semantic_type\": \"\",\n        \"description\": \"\"\n      }\n    },\n    {\n      \"column\": \"No. of Trades\",\n      \"properties\": {\n        \"dtype\": \"number\",\n        \"std\": 8360,\n        \"min\": 4312,\n        \"max\": 35178,\n        \"num_unique_values\": 20,\n        \"samples\": [\n          29756,\n          4312,\n          35178\n        ],\n        \"semantic_type\": \"\",\n        \"description\": \"\"\n      }\n    },\n    {\n      \"column\": \"Total Turnover (Rs.)\",\n      \"properties\": {\n        \"dtype\": \"number\",\n        \"std\": 184259053.55327263,\n        \"min\": 86064546.0,\n        \"max\": 828840854.0,\n        \"num_unique_values\": 20,\n        \"samples\": [\n          686793480.0,\n          144249339.0,\n          828840854.0\n        ],\n        \"semantic_type\": \"\",\n        \"description\": \"\"\n      }\n    },\n    {\n      \"column\": \"Deliverable Quantity\",\n      \"properties\": {\n        \"dtype\": \"number\",\n        \"std\": 122258,\n        \"min\": 56134,\n        \"max\": 532830,\n        \"num_unique_values\": 20,\n        \"samples\": [\n          354949,\n          131349,\n          532830\n        ],\n        \"semantic_type\": \"\",\n        \"description\": \"\"\n      }\n    },\n    {\n      \"column\": \"% Deli. Qty to Traded Qty\",\n      \"properties\": {\n        \"dtype\": \"number\",\n        \"std\": 13.63834401122149,\n        \"min\": 26.39,\n        \"max\": 74.09,\n        \"num_unique_values\": 20,\n        \"samples\": [\n          26.39,\n          44.19,\n          31.27\n        ],\n        \"semantic_type\": \"\",\n        \"description\": \"\"\n      }\n    },\n    {\n      \"column\": \"Spread High-Low\",\n      \"properties\": {\n        \"dtype\": \"number\",\n        \"std\": 4.933597891792028,\n        \"min\": 3.7,\n        \"max\": 23.35,\n        \"num_unique_values\": 19,\n        \"samples\": [\n          15.75,\n          6.55,\n          10.0\n        ],\n        \"semantic_type\": \"\",\n        \"description\": \"\"\n      }\n    },\n    {\n      \"column\": \"Spread Close-Open\",\n      \"properties\": {\n        \"dtype\": \"number\",\n        \"std\": 6.433191071965845,\n        \"min\": -22.15,\n        \"max\": 6.15,\n        \"num_unique_values\": 20,\n        \"samples\": [\n          -6.55,\n          2.95,\n          6.15\n        ],\n        \"semantic_type\": \"\",\n        \"description\": \"\"\n      }\n    },\n    {\n      \"column\": \"Asset\",\n      \"properties\": {\n        \"dtype\": \"category\",\n        \"num_unique_values\": 1,\n        \"samples\": [\n          \"ITC.BSE\"\n        ],\n        \"semantic_type\": \"\",\n        \"description\": \"\"\n      }\n    },\n    {\n      \"column\": \"Rate of Return (%)\",\n      \"properties\": {\n        \"dtype\": \"number\",\n        \"std\": 1.2696251062292765,\n        \"min\": -3.169915337664886,\n        \"max\": 2.172300519232806,\n        \"num_unique_values\": 20,\n        \"samples\": [\n          -1.8615984405458086\n        ],\n        \"semantic_type\": \"\",\n        \"description\": \"\"\n      }\n    }\n  ]\n}"
            }
          },
          "metadata": {},
          "execution_count": 6
        }
      ]
    },
    {
      "cell_type": "code",
      "source": [
        "mean_return=df.groupby('Asset')['Rate of Return (%)'].mean()\n",
        "mean_return"
      ],
      "metadata": {
        "colab": {
          "base_uri": "https://localhost:8080/",
          "height": 272
        },
        "id": "GXOcdoGN622Z",
        "outputId": "9e4dc127-b1ab-4c71-9821-287832addb68"
      },
      "execution_count": 7,
      "outputs": [
        {
          "output_type": "execute_result",
          "data": {
            "text/plain": [
              "Asset\n",
              "ADANI.BSE           -0.339570\n",
              "APOLLO_TYRES.BSE    -0.396392\n",
              "DECCAN_HEALTH.BSE   -0.313744\n",
              "GODREJ.BSE          -0.633750\n",
              "ITC.BSE             -0.252651\n",
              "Name: Rate of Return (%), dtype: float64"
            ],
            "text/html": [
              "<div>\n",
              "<style scoped>\n",
              "    .dataframe tbody tr th:only-of-type {\n",
              "        vertical-align: middle;\n",
              "    }\n",
              "\n",
              "    .dataframe tbody tr th {\n",
              "        vertical-align: top;\n",
              "    }\n",
              "\n",
              "    .dataframe thead th {\n",
              "        text-align: right;\n",
              "    }\n",
              "</style>\n",
              "<table border=\"1\" class=\"dataframe\">\n",
              "  <thead>\n",
              "    <tr style=\"text-align: right;\">\n",
              "      <th></th>\n",
              "      <th>Rate of Return (%)</th>\n",
              "    </tr>\n",
              "    <tr>\n",
              "      <th>Asset</th>\n",
              "      <th></th>\n",
              "    </tr>\n",
              "  </thead>\n",
              "  <tbody>\n",
              "    <tr>\n",
              "      <th>ADANI.BSE</th>\n",
              "      <td>-0.339570</td>\n",
              "    </tr>\n",
              "    <tr>\n",
              "      <th>APOLLO_TYRES.BSE</th>\n",
              "      <td>-0.396392</td>\n",
              "    </tr>\n",
              "    <tr>\n",
              "      <th>DECCAN_HEALTH.BSE</th>\n",
              "      <td>-0.313744</td>\n",
              "    </tr>\n",
              "    <tr>\n",
              "      <th>GODREJ.BSE</th>\n",
              "      <td>-0.633750</td>\n",
              "    </tr>\n",
              "    <tr>\n",
              "      <th>ITC.BSE</th>\n",
              "      <td>-0.252651</td>\n",
              "    </tr>\n",
              "  </tbody>\n",
              "</table>\n",
              "</div><br><label><b>dtype:</b> float64</label>"
            ]
          },
          "metadata": {},
          "execution_count": 7
        }
      ]
    },
    {
      "cell_type": "code",
      "source": [
        "df['Expected Rate of Return (%)'] = df.groupby('Asset')['Rate of Return (%)'].transform('mean')"
      ],
      "metadata": {
        "id": "-CndrwoN6249"
      },
      "execution_count": 8,
      "outputs": []
    },
    {
      "cell_type": "code",
      "source": [
        "df.dropna(subset=['Rate of Return (%)'], inplace=True)\n"
      ],
      "metadata": {
        "id": "I_ivTeuL627r"
      },
      "execution_count": 9,
      "outputs": []
    },
    {
      "cell_type": "code",
      "source": [
        "returns_df=df.pivot(index='Date',columns='Asset',values='Rate of Return (%)')\n",
        "cov_matrix=returns_df.cov()\n",
        "cov_matrix"
      ],
      "metadata": {
        "colab": {
          "base_uri": "https://localhost:8080/",
          "height": 237
        },
        "id": "rWl5w4U462-G",
        "outputId": "ec3943b7-688b-4ebc-c1bf-d06682f974fc"
      },
      "execution_count": 10,
      "outputs": [
        {
          "output_type": "execute_result",
          "data": {
            "text/plain": [
              "Asset              ADANI.BSE  APOLLO_TYRES.BSE  DECCAN_HEALTH.BSE  GODREJ.BSE  \\\n",
              "Asset                                                                           \n",
              "ADANI.BSE           6.299920          2.338774           3.847592    1.298338   \n",
              "APOLLO_TYRES.BSE    2.338774          3.263840           1.941489    1.355258   \n",
              "DECCAN_HEALTH.BSE   3.847592          1.941489           3.784975    1.433597   \n",
              "GODREJ.BSE          1.298338          1.355258           1.433597    5.090666   \n",
              "ITC.BSE            -0.225328          0.329012          -0.199998   -0.813830   \n",
              "\n",
              "Asset               ITC.BSE  \n",
              "Asset                        \n",
              "ADANI.BSE         -0.225328  \n",
              "APOLLO_TYRES.BSE   0.329012  \n",
              "DECCAN_HEALTH.BSE -0.199998  \n",
              "GODREJ.BSE        -0.813830  \n",
              "ITC.BSE            1.536697  "
            ],
            "text/html": [
              "\n",
              "  <div id=\"df-74f287fc-843c-4508-af92-7064156c04f0\" class=\"colab-df-container\">\n",
              "    <div>\n",
              "<style scoped>\n",
              "    .dataframe tbody tr th:only-of-type {\n",
              "        vertical-align: middle;\n",
              "    }\n",
              "\n",
              "    .dataframe tbody tr th {\n",
              "        vertical-align: top;\n",
              "    }\n",
              "\n",
              "    .dataframe thead th {\n",
              "        text-align: right;\n",
              "    }\n",
              "</style>\n",
              "<table border=\"1\" class=\"dataframe\">\n",
              "  <thead>\n",
              "    <tr style=\"text-align: right;\">\n",
              "      <th>Asset</th>\n",
              "      <th>ADANI.BSE</th>\n",
              "      <th>APOLLO_TYRES.BSE</th>\n",
              "      <th>DECCAN_HEALTH.BSE</th>\n",
              "      <th>GODREJ.BSE</th>\n",
              "      <th>ITC.BSE</th>\n",
              "    </tr>\n",
              "    <tr>\n",
              "      <th>Asset</th>\n",
              "      <th></th>\n",
              "      <th></th>\n",
              "      <th></th>\n",
              "      <th></th>\n",
              "      <th></th>\n",
              "    </tr>\n",
              "  </thead>\n",
              "  <tbody>\n",
              "    <tr>\n",
              "      <th>ADANI.BSE</th>\n",
              "      <td>6.299920</td>\n",
              "      <td>2.338774</td>\n",
              "      <td>3.847592</td>\n",
              "      <td>1.298338</td>\n",
              "      <td>-0.225328</td>\n",
              "    </tr>\n",
              "    <tr>\n",
              "      <th>APOLLO_TYRES.BSE</th>\n",
              "      <td>2.338774</td>\n",
              "      <td>3.263840</td>\n",
              "      <td>1.941489</td>\n",
              "      <td>1.355258</td>\n",
              "      <td>0.329012</td>\n",
              "    </tr>\n",
              "    <tr>\n",
              "      <th>DECCAN_HEALTH.BSE</th>\n",
              "      <td>3.847592</td>\n",
              "      <td>1.941489</td>\n",
              "      <td>3.784975</td>\n",
              "      <td>1.433597</td>\n",
              "      <td>-0.199998</td>\n",
              "    </tr>\n",
              "    <tr>\n",
              "      <th>GODREJ.BSE</th>\n",
              "      <td>1.298338</td>\n",
              "      <td>1.355258</td>\n",
              "      <td>1.433597</td>\n",
              "      <td>5.090666</td>\n",
              "      <td>-0.813830</td>\n",
              "    </tr>\n",
              "    <tr>\n",
              "      <th>ITC.BSE</th>\n",
              "      <td>-0.225328</td>\n",
              "      <td>0.329012</td>\n",
              "      <td>-0.199998</td>\n",
              "      <td>-0.813830</td>\n",
              "      <td>1.536697</td>\n",
              "    </tr>\n",
              "  </tbody>\n",
              "</table>\n",
              "</div>\n",
              "    <div class=\"colab-df-buttons\">\n",
              "\n",
              "  <div class=\"colab-df-container\">\n",
              "    <button class=\"colab-df-convert\" onclick=\"convertToInteractive('df-74f287fc-843c-4508-af92-7064156c04f0')\"\n",
              "            title=\"Convert this dataframe to an interactive table.\"\n",
              "            style=\"display:none;\">\n",
              "\n",
              "  <svg xmlns=\"http://www.w3.org/2000/svg\" height=\"24px\" viewBox=\"0 -960 960 960\">\n",
              "    <path d=\"M120-120v-720h720v720H120Zm60-500h600v-160H180v160Zm220 220h160v-160H400v160Zm0 220h160v-160H400v160ZM180-400h160v-160H180v160Zm440 0h160v-160H620v160ZM180-180h160v-160H180v160Zm440 0h160v-160H620v160Z\"/>\n",
              "  </svg>\n",
              "    </button>\n",
              "\n",
              "  <style>\n",
              "    .colab-df-container {\n",
              "      display:flex;\n",
              "      gap: 12px;\n",
              "    }\n",
              "\n",
              "    .colab-df-convert {\n",
              "      background-color: #E8F0FE;\n",
              "      border: none;\n",
              "      border-radius: 50%;\n",
              "      cursor: pointer;\n",
              "      display: none;\n",
              "      fill: #1967D2;\n",
              "      height: 32px;\n",
              "      padding: 0 0 0 0;\n",
              "      width: 32px;\n",
              "    }\n",
              "\n",
              "    .colab-df-convert:hover {\n",
              "      background-color: #E2EBFA;\n",
              "      box-shadow: 0px 1px 2px rgba(60, 64, 67, 0.3), 0px 1px 3px 1px rgba(60, 64, 67, 0.15);\n",
              "      fill: #174EA6;\n",
              "    }\n",
              "\n",
              "    .colab-df-buttons div {\n",
              "      margin-bottom: 4px;\n",
              "    }\n",
              "\n",
              "    [theme=dark] .colab-df-convert {\n",
              "      background-color: #3B4455;\n",
              "      fill: #D2E3FC;\n",
              "    }\n",
              "\n",
              "    [theme=dark] .colab-df-convert:hover {\n",
              "      background-color: #434B5C;\n",
              "      box-shadow: 0px 1px 3px 1px rgba(0, 0, 0, 0.15);\n",
              "      filter: drop-shadow(0px 1px 2px rgba(0, 0, 0, 0.3));\n",
              "      fill: #FFFFFF;\n",
              "    }\n",
              "  </style>\n",
              "\n",
              "    <script>\n",
              "      const buttonEl =\n",
              "        document.querySelector('#df-74f287fc-843c-4508-af92-7064156c04f0 button.colab-df-convert');\n",
              "      buttonEl.style.display =\n",
              "        google.colab.kernel.accessAllowed ? 'block' : 'none';\n",
              "\n",
              "      async function convertToInteractive(key) {\n",
              "        const element = document.querySelector('#df-74f287fc-843c-4508-af92-7064156c04f0');\n",
              "        const dataTable =\n",
              "          await google.colab.kernel.invokeFunction('convertToInteractive',\n",
              "                                                    [key], {});\n",
              "        if (!dataTable) return;\n",
              "\n",
              "        const docLinkHtml = 'Like what you see? Visit the ' +\n",
              "          '<a target=\"_blank\" href=https://colab.research.google.com/notebooks/data_table.ipynb>data table notebook</a>'\n",
              "          + ' to learn more about interactive tables.';\n",
              "        element.innerHTML = '';\n",
              "        dataTable['output_type'] = 'display_data';\n",
              "        await google.colab.output.renderOutput(dataTable, element);\n",
              "        const docLink = document.createElement('div');\n",
              "        docLink.innerHTML = docLinkHtml;\n",
              "        element.appendChild(docLink);\n",
              "      }\n",
              "    </script>\n",
              "  </div>\n",
              "\n",
              "\n",
              "<div id=\"df-d37b930c-86be-4667-bc67-7d61c16e71ef\">\n",
              "  <button class=\"colab-df-quickchart\" onclick=\"quickchart('df-d37b930c-86be-4667-bc67-7d61c16e71ef')\"\n",
              "            title=\"Suggest charts\"\n",
              "            style=\"display:none;\">\n",
              "\n",
              "<svg xmlns=\"http://www.w3.org/2000/svg\" height=\"24px\"viewBox=\"0 0 24 24\"\n",
              "     width=\"24px\">\n",
              "    <g>\n",
              "        <path d=\"M19 3H5c-1.1 0-2 .9-2 2v14c0 1.1.9 2 2 2h14c1.1 0 2-.9 2-2V5c0-1.1-.9-2-2-2zM9 17H7v-7h2v7zm4 0h-2V7h2v10zm4 0h-2v-4h2v4z\"/>\n",
              "    </g>\n",
              "</svg>\n",
              "  </button>\n",
              "\n",
              "<style>\n",
              "  .colab-df-quickchart {\n",
              "      --bg-color: #E8F0FE;\n",
              "      --fill-color: #1967D2;\n",
              "      --hover-bg-color: #E2EBFA;\n",
              "      --hover-fill-color: #174EA6;\n",
              "      --disabled-fill-color: #AAA;\n",
              "      --disabled-bg-color: #DDD;\n",
              "  }\n",
              "\n",
              "  [theme=dark] .colab-df-quickchart {\n",
              "      --bg-color: #3B4455;\n",
              "      --fill-color: #D2E3FC;\n",
              "      --hover-bg-color: #434B5C;\n",
              "      --hover-fill-color: #FFFFFF;\n",
              "      --disabled-bg-color: #3B4455;\n",
              "      --disabled-fill-color: #666;\n",
              "  }\n",
              "\n",
              "  .colab-df-quickchart {\n",
              "    background-color: var(--bg-color);\n",
              "    border: none;\n",
              "    border-radius: 50%;\n",
              "    cursor: pointer;\n",
              "    display: none;\n",
              "    fill: var(--fill-color);\n",
              "    height: 32px;\n",
              "    padding: 0;\n",
              "    width: 32px;\n",
              "  }\n",
              "\n",
              "  .colab-df-quickchart:hover {\n",
              "    background-color: var(--hover-bg-color);\n",
              "    box-shadow: 0 1px 2px rgba(60, 64, 67, 0.3), 0 1px 3px 1px rgba(60, 64, 67, 0.15);\n",
              "    fill: var(--button-hover-fill-color);\n",
              "  }\n",
              "\n",
              "  .colab-df-quickchart-complete:disabled,\n",
              "  .colab-df-quickchart-complete:disabled:hover {\n",
              "    background-color: var(--disabled-bg-color);\n",
              "    fill: var(--disabled-fill-color);\n",
              "    box-shadow: none;\n",
              "  }\n",
              "\n",
              "  .colab-df-spinner {\n",
              "    border: 2px solid var(--fill-color);\n",
              "    border-color: transparent;\n",
              "    border-bottom-color: var(--fill-color);\n",
              "    animation:\n",
              "      spin 1s steps(1) infinite;\n",
              "  }\n",
              "\n",
              "  @keyframes spin {\n",
              "    0% {\n",
              "      border-color: transparent;\n",
              "      border-bottom-color: var(--fill-color);\n",
              "      border-left-color: var(--fill-color);\n",
              "    }\n",
              "    20% {\n",
              "      border-color: transparent;\n",
              "      border-left-color: var(--fill-color);\n",
              "      border-top-color: var(--fill-color);\n",
              "    }\n",
              "    30% {\n",
              "      border-color: transparent;\n",
              "      border-left-color: var(--fill-color);\n",
              "      border-top-color: var(--fill-color);\n",
              "      border-right-color: var(--fill-color);\n",
              "    }\n",
              "    40% {\n",
              "      border-color: transparent;\n",
              "      border-right-color: var(--fill-color);\n",
              "      border-top-color: var(--fill-color);\n",
              "    }\n",
              "    60% {\n",
              "      border-color: transparent;\n",
              "      border-right-color: var(--fill-color);\n",
              "    }\n",
              "    80% {\n",
              "      border-color: transparent;\n",
              "      border-right-color: var(--fill-color);\n",
              "      border-bottom-color: var(--fill-color);\n",
              "    }\n",
              "    90% {\n",
              "      border-color: transparent;\n",
              "      border-bottom-color: var(--fill-color);\n",
              "    }\n",
              "  }\n",
              "</style>\n",
              "\n",
              "  <script>\n",
              "    async function quickchart(key) {\n",
              "      const quickchartButtonEl =\n",
              "        document.querySelector('#' + key + ' button');\n",
              "      quickchartButtonEl.disabled = true;  // To prevent multiple clicks.\n",
              "      quickchartButtonEl.classList.add('colab-df-spinner');\n",
              "      try {\n",
              "        const charts = await google.colab.kernel.invokeFunction(\n",
              "            'suggestCharts', [key], {});\n",
              "      } catch (error) {\n",
              "        console.error('Error during call to suggestCharts:', error);\n",
              "      }\n",
              "      quickchartButtonEl.classList.remove('colab-df-spinner');\n",
              "      quickchartButtonEl.classList.add('colab-df-quickchart-complete');\n",
              "    }\n",
              "    (() => {\n",
              "      let quickchartButtonEl =\n",
              "        document.querySelector('#df-d37b930c-86be-4667-bc67-7d61c16e71ef button');\n",
              "      quickchartButtonEl.style.display =\n",
              "        google.colab.kernel.accessAllowed ? 'block' : 'none';\n",
              "    })();\n",
              "  </script>\n",
              "</div>\n",
              "\n",
              "  <div id=\"id_7dec9369-c465-4aa5-9ddf-80b915a45046\">\n",
              "    <style>\n",
              "      .colab-df-generate {\n",
              "        background-color: #E8F0FE;\n",
              "        border: none;\n",
              "        border-radius: 50%;\n",
              "        cursor: pointer;\n",
              "        display: none;\n",
              "        fill: #1967D2;\n",
              "        height: 32px;\n",
              "        padding: 0 0 0 0;\n",
              "        width: 32px;\n",
              "      }\n",
              "\n",
              "      .colab-df-generate:hover {\n",
              "        background-color: #E2EBFA;\n",
              "        box-shadow: 0px 1px 2px rgba(60, 64, 67, 0.3), 0px 1px 3px 1px rgba(60, 64, 67, 0.15);\n",
              "        fill: #174EA6;\n",
              "      }\n",
              "\n",
              "      [theme=dark] .colab-df-generate {\n",
              "        background-color: #3B4455;\n",
              "        fill: #D2E3FC;\n",
              "      }\n",
              "\n",
              "      [theme=dark] .colab-df-generate:hover {\n",
              "        background-color: #434B5C;\n",
              "        box-shadow: 0px 1px 3px 1px rgba(0, 0, 0, 0.15);\n",
              "        filter: drop-shadow(0px 1px 2px rgba(0, 0, 0, 0.3));\n",
              "        fill: #FFFFFF;\n",
              "      }\n",
              "    </style>\n",
              "    <button class=\"colab-df-generate\" onclick=\"generateWithVariable('cov_matrix')\"\n",
              "            title=\"Generate code using this dataframe.\"\n",
              "            style=\"display:none;\">\n",
              "\n",
              "  <svg xmlns=\"http://www.w3.org/2000/svg\" height=\"24px\"viewBox=\"0 0 24 24\"\n",
              "       width=\"24px\">\n",
              "    <path d=\"M7,19H8.4L18.45,9,17,7.55,7,17.6ZM5,21V16.75L18.45,3.32a2,2,0,0,1,2.83,0l1.4,1.43a1.91,1.91,0,0,1,.58,1.4,1.91,1.91,0,0,1-.58,1.4L9.25,21ZM18.45,9,17,7.55Zm-12,3A5.31,5.31,0,0,0,4.9,8.1,5.31,5.31,0,0,0,1,6.5,5.31,5.31,0,0,0,4.9,4.9,5.31,5.31,0,0,0,6.5,1,5.31,5.31,0,0,0,8.1,4.9,5.31,5.31,0,0,0,12,6.5,5.46,5.46,0,0,0,6.5,12Z\"/>\n",
              "  </svg>\n",
              "    </button>\n",
              "    <script>\n",
              "      (() => {\n",
              "      const buttonEl =\n",
              "        document.querySelector('#id_7dec9369-c465-4aa5-9ddf-80b915a45046 button.colab-df-generate');\n",
              "      buttonEl.style.display =\n",
              "        google.colab.kernel.accessAllowed ? 'block' : 'none';\n",
              "\n",
              "      buttonEl.onclick = () => {\n",
              "        google.colab.notebook.generateWithVariable('cov_matrix');\n",
              "      }\n",
              "      })();\n",
              "    </script>\n",
              "  </div>\n",
              "\n",
              "    </div>\n",
              "  </div>\n"
            ],
            "application/vnd.google.colaboratory.intrinsic+json": {
              "type": "dataframe",
              "variable_name": "cov_matrix",
              "summary": "{\n  \"name\": \"cov_matrix\",\n  \"rows\": 5,\n  \"fields\": [\n    {\n      \"column\": \"Asset\",\n      \"properties\": {\n        \"dtype\": \"string\",\n        \"num_unique_values\": 5,\n        \"samples\": [\n          \"APOLLO_TYRES.BSE\",\n          \"ITC.BSE\",\n          \"DECCAN_HEALTH.BSE\"\n        ],\n        \"semantic_type\": \"\",\n        \"description\": \"\"\n      }\n    },\n    {\n      \"column\": \"ADANI.BSE\",\n      \"properties\": {\n        \"dtype\": \"number\",\n        \"std\": 2.496416308766032,\n        \"min\": -0.22532827102194053,\n        \"max\": 6.299920407937854,\n        \"num_unique_values\": 5,\n        \"samples\": [\n          2.338773959489312,\n          -0.22532827102194053,\n          3.847592087674453\n        ],\n        \"semantic_type\": \"\",\n        \"description\": \"\"\n      }\n    },\n    {\n      \"column\": \"APOLLO_TYRES.BSE\",\n      \"properties\": {\n        \"dtype\": \"number\",\n        \"std\": 1.0959353660630862,\n        \"min\": 0.32901152254397864,\n        \"max\": 3.263840382173818,\n        \"num_unique_values\": 5,\n        \"samples\": [\n          3.263840382173818,\n          0.32901152254397864,\n          1.9414888318785444\n        ],\n        \"semantic_type\": \"\",\n        \"description\": \"\"\n      }\n    },\n    {\n      \"column\": \"DECCAN_HEALTH.BSE\",\n      \"properties\": {\n        \"dtype\": \"number\",\n        \"std\": 1.7053955733024662,\n        \"min\": -0.1999977976935712,\n        \"max\": 3.847592087674453,\n        \"num_unique_values\": 5,\n        \"samples\": [\n          1.9414888318785444,\n          -0.1999977976935712,\n          3.784974719410068\n        ],\n        \"semantic_type\": \"\",\n        \"description\": \"\"\n      }\n    },\n    {\n      \"column\": \"GODREJ.BSE\",\n      \"properties\": {\n        \"dtype\": \"number\",\n        \"std\": 2.130927774570922,\n        \"min\": -0.8138304106765798,\n        \"max\": 5.090666120261307,\n        \"num_unique_values\": 5,\n        \"samples\": [\n          1.3552575481501026,\n          -0.8138304106765798,\n          1.4335969877372094\n        ],\n        \"semantic_type\": \"\",\n        \"description\": \"\"\n      }\n    },\n    {\n      \"column\": \"ITC.BSE\",\n      \"properties\": {\n        \"dtype\": \"number\",\n        \"std\": 0.886603577644438,\n        \"min\": -0.8138304106765798,\n        \"max\": 1.5366966351819487,\n        \"num_unique_values\": 5,\n        \"samples\": [\n          0.32901152254397864,\n          1.5366966351819487,\n          -0.1999977976935712\n        ],\n        \"semantic_type\": \"\",\n        \"description\": \"\"\n      }\n    }\n  ]\n}"
            }
          },
          "metadata": {},
          "execution_count": 10
        }
      ]
    },
    {
      "cell_type": "markdown",
      "source": [
        "# Variance Risk"
      ],
      "metadata": {
        "id": "g5ke47JGAWsp"
      }
    },
    {
      "cell_type": "markdown",
      "source": [
        "## Short Selling Allowed"
      ],
      "metadata": {
        "id": "FBGEo5CFkoMI"
      }
    },
    {
      "cell_type": "code",
      "source": [
        "cov_matrix_inv=np.linalg.inv(cov_matrix)"
      ],
      "metadata": {
        "id": "n-1b35xT63A0"
      },
      "execution_count": 11,
      "outputs": []
    },
    {
      "cell_type": "code",
      "source": [
        "e=np.ones(len(cov_matrix.columns))"
      ],
      "metadata": {
        "id": "z0uDMVv363Ds"
      },
      "execution_count": 12,
      "outputs": []
    },
    {
      "cell_type": "code",
      "source": [
        "optimal_weights=np.dot(cov_matrix_inv,e)/np.dot(e.T,np.dot(cov_matrix_inv,e))\n",
        "optimal_weights"
      ],
      "metadata": {
        "colab": {
          "base_uri": "https://localhost:8080/"
        },
        "id": "0q0Kn_oL63GU",
        "outputId": "84f125e2-97b3-4a5c-e2a8-48023e671492"
      },
      "execution_count": 13,
      "outputs": [
        {
          "output_type": "execute_result",
          "data": {
            "text/plain": [
              "array([ 0.01723526, -0.01682891,  0.14828122,  0.21196927,  0.63934317])"
            ]
          },
          "metadata": {},
          "execution_count": 13
        }
      ]
    },
    {
      "cell_type": "code",
      "source": [
        "Expected_return=np.dot(optimal_weights.T,mean_return)\n",
        "Expected_return"
      ],
      "metadata": {
        "colab": {
          "base_uri": "https://localhost:8080/"
        },
        "id": "3MuzPs7963JK",
        "outputId": "27112345-e728-4308-d7b9-f6b3edc89748"
      },
      "execution_count": 14,
      "outputs": [
        {
          "output_type": "execute_result",
          "data": {
            "text/plain": [
              "-0.3415704570156225"
            ]
          },
          "metadata": {},
          "execution_count": 14
        }
      ]
    },
    {
      "cell_type": "code",
      "source": [
        "weights_df=pd.DataFrame({\n",
        "    'Asset':cov_matrix.columns,\n",
        "    'Optimal Weight':optimal_weights\n",
        "})\n",
        "weights_df"
      ],
      "metadata": {
        "colab": {
          "base_uri": "https://localhost:8080/",
          "height": 206
        },
        "id": "OjAbQYCJ63L2",
        "outputId": "d25aa388-d8b2-41f4-aa82-3666dbc79a3e"
      },
      "execution_count": 15,
      "outputs": [
        {
          "output_type": "execute_result",
          "data": {
            "text/plain": [
              "               Asset  Optimal Weight\n",
              "0          ADANI.BSE        0.017235\n",
              "1   APOLLO_TYRES.BSE       -0.016829\n",
              "2  DECCAN_HEALTH.BSE        0.148281\n",
              "3         GODREJ.BSE        0.211969\n",
              "4            ITC.BSE        0.639343"
            ],
            "text/html": [
              "\n",
              "  <div id=\"df-739b6579-0972-4eab-95ba-1c05128e32b8\" class=\"colab-df-container\">\n",
              "    <div>\n",
              "<style scoped>\n",
              "    .dataframe tbody tr th:only-of-type {\n",
              "        vertical-align: middle;\n",
              "    }\n",
              "\n",
              "    .dataframe tbody tr th {\n",
              "        vertical-align: top;\n",
              "    }\n",
              "\n",
              "    .dataframe thead th {\n",
              "        text-align: right;\n",
              "    }\n",
              "</style>\n",
              "<table border=\"1\" class=\"dataframe\">\n",
              "  <thead>\n",
              "    <tr style=\"text-align: right;\">\n",
              "      <th></th>\n",
              "      <th>Asset</th>\n",
              "      <th>Optimal Weight</th>\n",
              "    </tr>\n",
              "  </thead>\n",
              "  <tbody>\n",
              "    <tr>\n",
              "      <th>0</th>\n",
              "      <td>ADANI.BSE</td>\n",
              "      <td>0.017235</td>\n",
              "    </tr>\n",
              "    <tr>\n",
              "      <th>1</th>\n",
              "      <td>APOLLO_TYRES.BSE</td>\n",
              "      <td>-0.016829</td>\n",
              "    </tr>\n",
              "    <tr>\n",
              "      <th>2</th>\n",
              "      <td>DECCAN_HEALTH.BSE</td>\n",
              "      <td>0.148281</td>\n",
              "    </tr>\n",
              "    <tr>\n",
              "      <th>3</th>\n",
              "      <td>GODREJ.BSE</td>\n",
              "      <td>0.211969</td>\n",
              "    </tr>\n",
              "    <tr>\n",
              "      <th>4</th>\n",
              "      <td>ITC.BSE</td>\n",
              "      <td>0.639343</td>\n",
              "    </tr>\n",
              "  </tbody>\n",
              "</table>\n",
              "</div>\n",
              "    <div class=\"colab-df-buttons\">\n",
              "\n",
              "  <div class=\"colab-df-container\">\n",
              "    <button class=\"colab-df-convert\" onclick=\"convertToInteractive('df-739b6579-0972-4eab-95ba-1c05128e32b8')\"\n",
              "            title=\"Convert this dataframe to an interactive table.\"\n",
              "            style=\"display:none;\">\n",
              "\n",
              "  <svg xmlns=\"http://www.w3.org/2000/svg\" height=\"24px\" viewBox=\"0 -960 960 960\">\n",
              "    <path d=\"M120-120v-720h720v720H120Zm60-500h600v-160H180v160Zm220 220h160v-160H400v160Zm0 220h160v-160H400v160ZM180-400h160v-160H180v160Zm440 0h160v-160H620v160ZM180-180h160v-160H180v160Zm440 0h160v-160H620v160Z\"/>\n",
              "  </svg>\n",
              "    </button>\n",
              "\n",
              "  <style>\n",
              "    .colab-df-container {\n",
              "      display:flex;\n",
              "      gap: 12px;\n",
              "    }\n",
              "\n",
              "    .colab-df-convert {\n",
              "      background-color: #E8F0FE;\n",
              "      border: none;\n",
              "      border-radius: 50%;\n",
              "      cursor: pointer;\n",
              "      display: none;\n",
              "      fill: #1967D2;\n",
              "      height: 32px;\n",
              "      padding: 0 0 0 0;\n",
              "      width: 32px;\n",
              "    }\n",
              "\n",
              "    .colab-df-convert:hover {\n",
              "      background-color: #E2EBFA;\n",
              "      box-shadow: 0px 1px 2px rgba(60, 64, 67, 0.3), 0px 1px 3px 1px rgba(60, 64, 67, 0.15);\n",
              "      fill: #174EA6;\n",
              "    }\n",
              "\n",
              "    .colab-df-buttons div {\n",
              "      margin-bottom: 4px;\n",
              "    }\n",
              "\n",
              "    [theme=dark] .colab-df-convert {\n",
              "      background-color: #3B4455;\n",
              "      fill: #D2E3FC;\n",
              "    }\n",
              "\n",
              "    [theme=dark] .colab-df-convert:hover {\n",
              "      background-color: #434B5C;\n",
              "      box-shadow: 0px 1px 3px 1px rgba(0, 0, 0, 0.15);\n",
              "      filter: drop-shadow(0px 1px 2px rgba(0, 0, 0, 0.3));\n",
              "      fill: #FFFFFF;\n",
              "    }\n",
              "  </style>\n",
              "\n",
              "    <script>\n",
              "      const buttonEl =\n",
              "        document.querySelector('#df-739b6579-0972-4eab-95ba-1c05128e32b8 button.colab-df-convert');\n",
              "      buttonEl.style.display =\n",
              "        google.colab.kernel.accessAllowed ? 'block' : 'none';\n",
              "\n",
              "      async function convertToInteractive(key) {\n",
              "        const element = document.querySelector('#df-739b6579-0972-4eab-95ba-1c05128e32b8');\n",
              "        const dataTable =\n",
              "          await google.colab.kernel.invokeFunction('convertToInteractive',\n",
              "                                                    [key], {});\n",
              "        if (!dataTable) return;\n",
              "\n",
              "        const docLinkHtml = 'Like what you see? Visit the ' +\n",
              "          '<a target=\"_blank\" href=https://colab.research.google.com/notebooks/data_table.ipynb>data table notebook</a>'\n",
              "          + ' to learn more about interactive tables.';\n",
              "        element.innerHTML = '';\n",
              "        dataTable['output_type'] = 'display_data';\n",
              "        await google.colab.output.renderOutput(dataTable, element);\n",
              "        const docLink = document.createElement('div');\n",
              "        docLink.innerHTML = docLinkHtml;\n",
              "        element.appendChild(docLink);\n",
              "      }\n",
              "    </script>\n",
              "  </div>\n",
              "\n",
              "\n",
              "<div id=\"df-85c81d04-10d9-435a-89c8-fcdc657fb2b4\">\n",
              "  <button class=\"colab-df-quickchart\" onclick=\"quickchart('df-85c81d04-10d9-435a-89c8-fcdc657fb2b4')\"\n",
              "            title=\"Suggest charts\"\n",
              "            style=\"display:none;\">\n",
              "\n",
              "<svg xmlns=\"http://www.w3.org/2000/svg\" height=\"24px\"viewBox=\"0 0 24 24\"\n",
              "     width=\"24px\">\n",
              "    <g>\n",
              "        <path d=\"M19 3H5c-1.1 0-2 .9-2 2v14c0 1.1.9 2 2 2h14c1.1 0 2-.9 2-2V5c0-1.1-.9-2-2-2zM9 17H7v-7h2v7zm4 0h-2V7h2v10zm4 0h-2v-4h2v4z\"/>\n",
              "    </g>\n",
              "</svg>\n",
              "  </button>\n",
              "\n",
              "<style>\n",
              "  .colab-df-quickchart {\n",
              "      --bg-color: #E8F0FE;\n",
              "      --fill-color: #1967D2;\n",
              "      --hover-bg-color: #E2EBFA;\n",
              "      --hover-fill-color: #174EA6;\n",
              "      --disabled-fill-color: #AAA;\n",
              "      --disabled-bg-color: #DDD;\n",
              "  }\n",
              "\n",
              "  [theme=dark] .colab-df-quickchart {\n",
              "      --bg-color: #3B4455;\n",
              "      --fill-color: #D2E3FC;\n",
              "      --hover-bg-color: #434B5C;\n",
              "      --hover-fill-color: #FFFFFF;\n",
              "      --disabled-bg-color: #3B4455;\n",
              "      --disabled-fill-color: #666;\n",
              "  }\n",
              "\n",
              "  .colab-df-quickchart {\n",
              "    background-color: var(--bg-color);\n",
              "    border: none;\n",
              "    border-radius: 50%;\n",
              "    cursor: pointer;\n",
              "    display: none;\n",
              "    fill: var(--fill-color);\n",
              "    height: 32px;\n",
              "    padding: 0;\n",
              "    width: 32px;\n",
              "  }\n",
              "\n",
              "  .colab-df-quickchart:hover {\n",
              "    background-color: var(--hover-bg-color);\n",
              "    box-shadow: 0 1px 2px rgba(60, 64, 67, 0.3), 0 1px 3px 1px rgba(60, 64, 67, 0.15);\n",
              "    fill: var(--button-hover-fill-color);\n",
              "  }\n",
              "\n",
              "  .colab-df-quickchart-complete:disabled,\n",
              "  .colab-df-quickchart-complete:disabled:hover {\n",
              "    background-color: var(--disabled-bg-color);\n",
              "    fill: var(--disabled-fill-color);\n",
              "    box-shadow: none;\n",
              "  }\n",
              "\n",
              "  .colab-df-spinner {\n",
              "    border: 2px solid var(--fill-color);\n",
              "    border-color: transparent;\n",
              "    border-bottom-color: var(--fill-color);\n",
              "    animation:\n",
              "      spin 1s steps(1) infinite;\n",
              "  }\n",
              "\n",
              "  @keyframes spin {\n",
              "    0% {\n",
              "      border-color: transparent;\n",
              "      border-bottom-color: var(--fill-color);\n",
              "      border-left-color: var(--fill-color);\n",
              "    }\n",
              "    20% {\n",
              "      border-color: transparent;\n",
              "      border-left-color: var(--fill-color);\n",
              "      border-top-color: var(--fill-color);\n",
              "    }\n",
              "    30% {\n",
              "      border-color: transparent;\n",
              "      border-left-color: var(--fill-color);\n",
              "      border-top-color: var(--fill-color);\n",
              "      border-right-color: var(--fill-color);\n",
              "    }\n",
              "    40% {\n",
              "      border-color: transparent;\n",
              "      border-right-color: var(--fill-color);\n",
              "      border-top-color: var(--fill-color);\n",
              "    }\n",
              "    60% {\n",
              "      border-color: transparent;\n",
              "      border-right-color: var(--fill-color);\n",
              "    }\n",
              "    80% {\n",
              "      border-color: transparent;\n",
              "      border-right-color: var(--fill-color);\n",
              "      border-bottom-color: var(--fill-color);\n",
              "    }\n",
              "    90% {\n",
              "      border-color: transparent;\n",
              "      border-bottom-color: var(--fill-color);\n",
              "    }\n",
              "  }\n",
              "</style>\n",
              "\n",
              "  <script>\n",
              "    async function quickchart(key) {\n",
              "      const quickchartButtonEl =\n",
              "        document.querySelector('#' + key + ' button');\n",
              "      quickchartButtonEl.disabled = true;  // To prevent multiple clicks.\n",
              "      quickchartButtonEl.classList.add('colab-df-spinner');\n",
              "      try {\n",
              "        const charts = await google.colab.kernel.invokeFunction(\n",
              "            'suggestCharts', [key], {});\n",
              "      } catch (error) {\n",
              "        console.error('Error during call to suggestCharts:', error);\n",
              "      }\n",
              "      quickchartButtonEl.classList.remove('colab-df-spinner');\n",
              "      quickchartButtonEl.classList.add('colab-df-quickchart-complete');\n",
              "    }\n",
              "    (() => {\n",
              "      let quickchartButtonEl =\n",
              "        document.querySelector('#df-85c81d04-10d9-435a-89c8-fcdc657fb2b4 button');\n",
              "      quickchartButtonEl.style.display =\n",
              "        google.colab.kernel.accessAllowed ? 'block' : 'none';\n",
              "    })();\n",
              "  </script>\n",
              "</div>\n",
              "\n",
              "  <div id=\"id_6d97d458-32e2-44e4-8a5e-8fa821ed3535\">\n",
              "    <style>\n",
              "      .colab-df-generate {\n",
              "        background-color: #E8F0FE;\n",
              "        border: none;\n",
              "        border-radius: 50%;\n",
              "        cursor: pointer;\n",
              "        display: none;\n",
              "        fill: #1967D2;\n",
              "        height: 32px;\n",
              "        padding: 0 0 0 0;\n",
              "        width: 32px;\n",
              "      }\n",
              "\n",
              "      .colab-df-generate:hover {\n",
              "        background-color: #E2EBFA;\n",
              "        box-shadow: 0px 1px 2px rgba(60, 64, 67, 0.3), 0px 1px 3px 1px rgba(60, 64, 67, 0.15);\n",
              "        fill: #174EA6;\n",
              "      }\n",
              "\n",
              "      [theme=dark] .colab-df-generate {\n",
              "        background-color: #3B4455;\n",
              "        fill: #D2E3FC;\n",
              "      }\n",
              "\n",
              "      [theme=dark] .colab-df-generate:hover {\n",
              "        background-color: #434B5C;\n",
              "        box-shadow: 0px 1px 3px 1px rgba(0, 0, 0, 0.15);\n",
              "        filter: drop-shadow(0px 1px 2px rgba(0, 0, 0, 0.3));\n",
              "        fill: #FFFFFF;\n",
              "      }\n",
              "    </style>\n",
              "    <button class=\"colab-df-generate\" onclick=\"generateWithVariable('weights_df')\"\n",
              "            title=\"Generate code using this dataframe.\"\n",
              "            style=\"display:none;\">\n",
              "\n",
              "  <svg xmlns=\"http://www.w3.org/2000/svg\" height=\"24px\"viewBox=\"0 0 24 24\"\n",
              "       width=\"24px\">\n",
              "    <path d=\"M7,19H8.4L18.45,9,17,7.55,7,17.6ZM5,21V16.75L18.45,3.32a2,2,0,0,1,2.83,0l1.4,1.43a1.91,1.91,0,0,1,.58,1.4,1.91,1.91,0,0,1-.58,1.4L9.25,21ZM18.45,9,17,7.55Zm-12,3A5.31,5.31,0,0,0,4.9,8.1,5.31,5.31,0,0,0,1,6.5,5.31,5.31,0,0,0,4.9,4.9,5.31,5.31,0,0,0,6.5,1,5.31,5.31,0,0,0,8.1,4.9,5.31,5.31,0,0,0,12,6.5,5.46,5.46,0,0,0,6.5,12Z\"/>\n",
              "  </svg>\n",
              "    </button>\n",
              "    <script>\n",
              "      (() => {\n",
              "      const buttonEl =\n",
              "        document.querySelector('#id_6d97d458-32e2-44e4-8a5e-8fa821ed3535 button.colab-df-generate');\n",
              "      buttonEl.style.display =\n",
              "        google.colab.kernel.accessAllowed ? 'block' : 'none';\n",
              "\n",
              "      buttonEl.onclick = () => {\n",
              "        google.colab.notebook.generateWithVariable('weights_df');\n",
              "      }\n",
              "      })();\n",
              "    </script>\n",
              "  </div>\n",
              "\n",
              "    </div>\n",
              "  </div>\n"
            ],
            "application/vnd.google.colaboratory.intrinsic+json": {
              "type": "dataframe",
              "variable_name": "weights_df",
              "summary": "{\n  \"name\": \"weights_df\",\n  \"rows\": 5,\n  \"fields\": [\n    {\n      \"column\": \"Asset\",\n      \"properties\": {\n        \"dtype\": \"string\",\n        \"num_unique_values\": 5,\n        \"samples\": [\n          \"APOLLO_TYRES.BSE\",\n          \"ITC.BSE\",\n          \"DECCAN_HEALTH.BSE\"\n        ],\n        \"semantic_type\": \"\",\n        \"description\": \"\"\n      }\n    },\n    {\n      \"column\": \"Optimal Weight\",\n      \"properties\": {\n        \"dtype\": \"number\",\n        \"std\": 0.26280137012495813,\n        \"min\": -0.016828910858559656,\n        \"max\": 0.6393431666870757,\n        \"num_unique_values\": 5,\n        \"samples\": [\n          -0.016828910858559656,\n          0.6393431666870757,\n          0.14828121673349812\n        ],\n        \"semantic_type\": \"\",\n        \"description\": \"\"\n      }\n    }\n  ]\n}"
            }
          },
          "metadata": {},
          "execution_count": 15
        }
      ]
    },
    {
      "cell_type": "code",
      "source": [
        "Optimal_Risk=np.sqrt(np.dot(optimal_weights.T,np.dot(cov_matrix,optimal_weights)))\n",
        "Optimal_Risk"
      ],
      "metadata": {
        "colab": {
          "base_uri": "https://localhost:8080/"
        },
        "id": "UkAdDP0563O6",
        "outputId": "c8cf4cb3-e033-441a-a7c6-eac1c8365083"
      },
      "execution_count": 16,
      "outputs": [
        {
          "output_type": "execute_result",
          "data": {
            "text/plain": [
              "0.8780051501275884"
            ]
          },
          "metadata": {},
          "execution_count": 16
        }
      ]
    },
    {
      "cell_type": "markdown",
      "source": [
        "##Return=(3/5)*(Sum of Expected Returns)"
      ],
      "metadata": {
        "id": "nQJlg1v0DOQd"
      }
    },
    {
      "cell_type": "code",
      "source": [
        "return_value=(3/5)*np.sum(mean_return)\n",
        "return_value"
      ],
      "metadata": {
        "colab": {
          "base_uri": "https://localhost:8080/"
        },
        "id": "qegYZfebUfbl",
        "outputId": "c31e0e29-c69a-48ac-fc9f-c10ae4418c17"
      },
      "execution_count": 38,
      "outputs": [
        {
          "output_type": "execute_result",
          "data": {
            "text/plain": [
              "-1.1616647497627166"
            ]
          },
          "metadata": {},
          "execution_count": 38
        }
      ]
    },
    {
      "cell_type": "code",
      "source": [
        "\n",
        "\n",
        "A=mean_return.T@cov_matrix_inv@e\n",
        "B=e.T@cov_matrix_inv@e\n",
        "C=mean_return.T@cov_matrix_inv@mean_return\n",
        "D=e.T@cov_matrix_inv@mean_return\n",
        "den_det=np.linalg.det(np.array([[C,A],[D,B]]))\n",
        "lambda1=np.linalg.det(np.array([[2*return_value,A],[2,B]]))/den_det\n",
        "lambda2=np.linalg.det(np.array([[C,2*return_value],[D,2]]))/den_det\n",
        "optimal_weights=0.5*(lambda1*(cov_matrix_inv@mean_return)+lambda2*(cov_matrix_inv@e))\n",
        "risk_value=np.sqrt(np.dot(optimal_weights.T,np.dot(cov_matrix,optimal_weights)))"
      ],
      "metadata": {
        "id": "MgvW30bu63Rr"
      },
      "execution_count": 39,
      "outputs": []
    },
    {
      "cell_type": "code",
      "source": [
        "optimal_weights"
      ],
      "metadata": {
        "colab": {
          "base_uri": "https://localhost:8080/"
        },
        "id": "Mk3bqaye63UL",
        "outputId": "35dd1f93-3d88-44b9-e325-c44c62138e60"
      },
      "execution_count": 40,
      "outputs": [
        {
          "output_type": "execute_result",
          "data": {
            "text/plain": [
              "array([ 0.4328258 ,  0.68580071, -1.76254293,  2.31041053, -0.6664941 ])"
            ]
          },
          "metadata": {},
          "execution_count": 40
        }
      ]
    },
    {
      "cell_type": "code",
      "source": [
        "weights_df=pd.DataFrame({\n",
        "    'Asset':cov_matrix.columns,\n",
        "    'Optimal Weight':optimal_weights\n",
        "})\n",
        "weights_df"
      ],
      "metadata": {
        "colab": {
          "base_uri": "https://localhost:8080/",
          "height": 206
        },
        "id": "UjhWQH6g63Z4",
        "outputId": "752b3a2b-ac4e-4833-8195-d9e369826759"
      },
      "execution_count": 42,
      "outputs": [
        {
          "output_type": "execute_result",
          "data": {
            "text/plain": [
              "               Asset  Optimal Weight\n",
              "0          ADANI.BSE        0.432826\n",
              "1   APOLLO_TYRES.BSE        0.685801\n",
              "2  DECCAN_HEALTH.BSE       -1.762543\n",
              "3         GODREJ.BSE        2.310411\n",
              "4            ITC.BSE       -0.666494"
            ],
            "text/html": [
              "\n",
              "  <div id=\"df-b92afadb-3df3-49f0-aac0-45a75b3fce65\" class=\"colab-df-container\">\n",
              "    <div>\n",
              "<style scoped>\n",
              "    .dataframe tbody tr th:only-of-type {\n",
              "        vertical-align: middle;\n",
              "    }\n",
              "\n",
              "    .dataframe tbody tr th {\n",
              "        vertical-align: top;\n",
              "    }\n",
              "\n",
              "    .dataframe thead th {\n",
              "        text-align: right;\n",
              "    }\n",
              "</style>\n",
              "<table border=\"1\" class=\"dataframe\">\n",
              "  <thead>\n",
              "    <tr style=\"text-align: right;\">\n",
              "      <th></th>\n",
              "      <th>Asset</th>\n",
              "      <th>Optimal Weight</th>\n",
              "    </tr>\n",
              "  </thead>\n",
              "  <tbody>\n",
              "    <tr>\n",
              "      <th>0</th>\n",
              "      <td>ADANI.BSE</td>\n",
              "      <td>0.432826</td>\n",
              "    </tr>\n",
              "    <tr>\n",
              "      <th>1</th>\n",
              "      <td>APOLLO_TYRES.BSE</td>\n",
              "      <td>0.685801</td>\n",
              "    </tr>\n",
              "    <tr>\n",
              "      <th>2</th>\n",
              "      <td>DECCAN_HEALTH.BSE</td>\n",
              "      <td>-1.762543</td>\n",
              "    </tr>\n",
              "    <tr>\n",
              "      <th>3</th>\n",
              "      <td>GODREJ.BSE</td>\n",
              "      <td>2.310411</td>\n",
              "    </tr>\n",
              "    <tr>\n",
              "      <th>4</th>\n",
              "      <td>ITC.BSE</td>\n",
              "      <td>-0.666494</td>\n",
              "    </tr>\n",
              "  </tbody>\n",
              "</table>\n",
              "</div>\n",
              "    <div class=\"colab-df-buttons\">\n",
              "\n",
              "  <div class=\"colab-df-container\">\n",
              "    <button class=\"colab-df-convert\" onclick=\"convertToInteractive('df-b92afadb-3df3-49f0-aac0-45a75b3fce65')\"\n",
              "            title=\"Convert this dataframe to an interactive table.\"\n",
              "            style=\"display:none;\">\n",
              "\n",
              "  <svg xmlns=\"http://www.w3.org/2000/svg\" height=\"24px\" viewBox=\"0 -960 960 960\">\n",
              "    <path d=\"M120-120v-720h720v720H120Zm60-500h600v-160H180v160Zm220 220h160v-160H400v160Zm0 220h160v-160H400v160ZM180-400h160v-160H180v160Zm440 0h160v-160H620v160ZM180-180h160v-160H180v160Zm440 0h160v-160H620v160Z\"/>\n",
              "  </svg>\n",
              "    </button>\n",
              "\n",
              "  <style>\n",
              "    .colab-df-container {\n",
              "      display:flex;\n",
              "      gap: 12px;\n",
              "    }\n",
              "\n",
              "    .colab-df-convert {\n",
              "      background-color: #E8F0FE;\n",
              "      border: none;\n",
              "      border-radius: 50%;\n",
              "      cursor: pointer;\n",
              "      display: none;\n",
              "      fill: #1967D2;\n",
              "      height: 32px;\n",
              "      padding: 0 0 0 0;\n",
              "      width: 32px;\n",
              "    }\n",
              "\n",
              "    .colab-df-convert:hover {\n",
              "      background-color: #E2EBFA;\n",
              "      box-shadow: 0px 1px 2px rgba(60, 64, 67, 0.3), 0px 1px 3px 1px rgba(60, 64, 67, 0.15);\n",
              "      fill: #174EA6;\n",
              "    }\n",
              "\n",
              "    .colab-df-buttons div {\n",
              "      margin-bottom: 4px;\n",
              "    }\n",
              "\n",
              "    [theme=dark] .colab-df-convert {\n",
              "      background-color: #3B4455;\n",
              "      fill: #D2E3FC;\n",
              "    }\n",
              "\n",
              "    [theme=dark] .colab-df-convert:hover {\n",
              "      background-color: #434B5C;\n",
              "      box-shadow: 0px 1px 3px 1px rgba(0, 0, 0, 0.15);\n",
              "      filter: drop-shadow(0px 1px 2px rgba(0, 0, 0, 0.3));\n",
              "      fill: #FFFFFF;\n",
              "    }\n",
              "  </style>\n",
              "\n",
              "    <script>\n",
              "      const buttonEl =\n",
              "        document.querySelector('#df-b92afadb-3df3-49f0-aac0-45a75b3fce65 button.colab-df-convert');\n",
              "      buttonEl.style.display =\n",
              "        google.colab.kernel.accessAllowed ? 'block' : 'none';\n",
              "\n",
              "      async function convertToInteractive(key) {\n",
              "        const element = document.querySelector('#df-b92afadb-3df3-49f0-aac0-45a75b3fce65');\n",
              "        const dataTable =\n",
              "          await google.colab.kernel.invokeFunction('convertToInteractive',\n",
              "                                                    [key], {});\n",
              "        if (!dataTable) return;\n",
              "\n",
              "        const docLinkHtml = 'Like what you see? Visit the ' +\n",
              "          '<a target=\"_blank\" href=https://colab.research.google.com/notebooks/data_table.ipynb>data table notebook</a>'\n",
              "          + ' to learn more about interactive tables.';\n",
              "        element.innerHTML = '';\n",
              "        dataTable['output_type'] = 'display_data';\n",
              "        await google.colab.output.renderOutput(dataTable, element);\n",
              "        const docLink = document.createElement('div');\n",
              "        docLink.innerHTML = docLinkHtml;\n",
              "        element.appendChild(docLink);\n",
              "      }\n",
              "    </script>\n",
              "  </div>\n",
              "\n",
              "\n",
              "<div id=\"df-ab1e0029-64b9-4efe-894b-eab7671d81db\">\n",
              "  <button class=\"colab-df-quickchart\" onclick=\"quickchart('df-ab1e0029-64b9-4efe-894b-eab7671d81db')\"\n",
              "            title=\"Suggest charts\"\n",
              "            style=\"display:none;\">\n",
              "\n",
              "<svg xmlns=\"http://www.w3.org/2000/svg\" height=\"24px\"viewBox=\"0 0 24 24\"\n",
              "     width=\"24px\">\n",
              "    <g>\n",
              "        <path d=\"M19 3H5c-1.1 0-2 .9-2 2v14c0 1.1.9 2 2 2h14c1.1 0 2-.9 2-2V5c0-1.1-.9-2-2-2zM9 17H7v-7h2v7zm4 0h-2V7h2v10zm4 0h-2v-4h2v4z\"/>\n",
              "    </g>\n",
              "</svg>\n",
              "  </button>\n",
              "\n",
              "<style>\n",
              "  .colab-df-quickchart {\n",
              "      --bg-color: #E8F0FE;\n",
              "      --fill-color: #1967D2;\n",
              "      --hover-bg-color: #E2EBFA;\n",
              "      --hover-fill-color: #174EA6;\n",
              "      --disabled-fill-color: #AAA;\n",
              "      --disabled-bg-color: #DDD;\n",
              "  }\n",
              "\n",
              "  [theme=dark] .colab-df-quickchart {\n",
              "      --bg-color: #3B4455;\n",
              "      --fill-color: #D2E3FC;\n",
              "      --hover-bg-color: #434B5C;\n",
              "      --hover-fill-color: #FFFFFF;\n",
              "      --disabled-bg-color: #3B4455;\n",
              "      --disabled-fill-color: #666;\n",
              "  }\n",
              "\n",
              "  .colab-df-quickchart {\n",
              "    background-color: var(--bg-color);\n",
              "    border: none;\n",
              "    border-radius: 50%;\n",
              "    cursor: pointer;\n",
              "    display: none;\n",
              "    fill: var(--fill-color);\n",
              "    height: 32px;\n",
              "    padding: 0;\n",
              "    width: 32px;\n",
              "  }\n",
              "\n",
              "  .colab-df-quickchart:hover {\n",
              "    background-color: var(--hover-bg-color);\n",
              "    box-shadow: 0 1px 2px rgba(60, 64, 67, 0.3), 0 1px 3px 1px rgba(60, 64, 67, 0.15);\n",
              "    fill: var(--button-hover-fill-color);\n",
              "  }\n",
              "\n",
              "  .colab-df-quickchart-complete:disabled,\n",
              "  .colab-df-quickchart-complete:disabled:hover {\n",
              "    background-color: var(--disabled-bg-color);\n",
              "    fill: var(--disabled-fill-color);\n",
              "    box-shadow: none;\n",
              "  }\n",
              "\n",
              "  .colab-df-spinner {\n",
              "    border: 2px solid var(--fill-color);\n",
              "    border-color: transparent;\n",
              "    border-bottom-color: var(--fill-color);\n",
              "    animation:\n",
              "      spin 1s steps(1) infinite;\n",
              "  }\n",
              "\n",
              "  @keyframes spin {\n",
              "    0% {\n",
              "      border-color: transparent;\n",
              "      border-bottom-color: var(--fill-color);\n",
              "      border-left-color: var(--fill-color);\n",
              "    }\n",
              "    20% {\n",
              "      border-color: transparent;\n",
              "      border-left-color: var(--fill-color);\n",
              "      border-top-color: var(--fill-color);\n",
              "    }\n",
              "    30% {\n",
              "      border-color: transparent;\n",
              "      border-left-color: var(--fill-color);\n",
              "      border-top-color: var(--fill-color);\n",
              "      border-right-color: var(--fill-color);\n",
              "    }\n",
              "    40% {\n",
              "      border-color: transparent;\n",
              "      border-right-color: var(--fill-color);\n",
              "      border-top-color: var(--fill-color);\n",
              "    }\n",
              "    60% {\n",
              "      border-color: transparent;\n",
              "      border-right-color: var(--fill-color);\n",
              "    }\n",
              "    80% {\n",
              "      border-color: transparent;\n",
              "      border-right-color: var(--fill-color);\n",
              "      border-bottom-color: var(--fill-color);\n",
              "    }\n",
              "    90% {\n",
              "      border-color: transparent;\n",
              "      border-bottom-color: var(--fill-color);\n",
              "    }\n",
              "  }\n",
              "</style>\n",
              "\n",
              "  <script>\n",
              "    async function quickchart(key) {\n",
              "      const quickchartButtonEl =\n",
              "        document.querySelector('#' + key + ' button');\n",
              "      quickchartButtonEl.disabled = true;  // To prevent multiple clicks.\n",
              "      quickchartButtonEl.classList.add('colab-df-spinner');\n",
              "      try {\n",
              "        const charts = await google.colab.kernel.invokeFunction(\n",
              "            'suggestCharts', [key], {});\n",
              "      } catch (error) {\n",
              "        console.error('Error during call to suggestCharts:', error);\n",
              "      }\n",
              "      quickchartButtonEl.classList.remove('colab-df-spinner');\n",
              "      quickchartButtonEl.classList.add('colab-df-quickchart-complete');\n",
              "    }\n",
              "    (() => {\n",
              "      let quickchartButtonEl =\n",
              "        document.querySelector('#df-ab1e0029-64b9-4efe-894b-eab7671d81db button');\n",
              "      quickchartButtonEl.style.display =\n",
              "        google.colab.kernel.accessAllowed ? 'block' : 'none';\n",
              "    })();\n",
              "  </script>\n",
              "</div>\n",
              "\n",
              "  <div id=\"id_ab9c327d-804d-4527-8d28-63159a9d91cf\">\n",
              "    <style>\n",
              "      .colab-df-generate {\n",
              "        background-color: #E8F0FE;\n",
              "        border: none;\n",
              "        border-radius: 50%;\n",
              "        cursor: pointer;\n",
              "        display: none;\n",
              "        fill: #1967D2;\n",
              "        height: 32px;\n",
              "        padding: 0 0 0 0;\n",
              "        width: 32px;\n",
              "      }\n",
              "\n",
              "      .colab-df-generate:hover {\n",
              "        background-color: #E2EBFA;\n",
              "        box-shadow: 0px 1px 2px rgba(60, 64, 67, 0.3), 0px 1px 3px 1px rgba(60, 64, 67, 0.15);\n",
              "        fill: #174EA6;\n",
              "      }\n",
              "\n",
              "      [theme=dark] .colab-df-generate {\n",
              "        background-color: #3B4455;\n",
              "        fill: #D2E3FC;\n",
              "      }\n",
              "\n",
              "      [theme=dark] .colab-df-generate:hover {\n",
              "        background-color: #434B5C;\n",
              "        box-shadow: 0px 1px 3px 1px rgba(0, 0, 0, 0.15);\n",
              "        filter: drop-shadow(0px 1px 2px rgba(0, 0, 0, 0.3));\n",
              "        fill: #FFFFFF;\n",
              "      }\n",
              "    </style>\n",
              "    <button class=\"colab-df-generate\" onclick=\"generateWithVariable('weights_df')\"\n",
              "            title=\"Generate code using this dataframe.\"\n",
              "            style=\"display:none;\">\n",
              "\n",
              "  <svg xmlns=\"http://www.w3.org/2000/svg\" height=\"24px\"viewBox=\"0 0 24 24\"\n",
              "       width=\"24px\">\n",
              "    <path d=\"M7,19H8.4L18.45,9,17,7.55,7,17.6ZM5,21V16.75L18.45,3.32a2,2,0,0,1,2.83,0l1.4,1.43a1.91,1.91,0,0,1,.58,1.4,1.91,1.91,0,0,1-.58,1.4L9.25,21ZM18.45,9,17,7.55Zm-12,3A5.31,5.31,0,0,0,4.9,8.1,5.31,5.31,0,0,0,1,6.5,5.31,5.31,0,0,0,4.9,4.9,5.31,5.31,0,0,0,6.5,1,5.31,5.31,0,0,0,8.1,4.9,5.31,5.31,0,0,0,12,6.5,5.46,5.46,0,0,0,6.5,12Z\"/>\n",
              "  </svg>\n",
              "    </button>\n",
              "    <script>\n",
              "      (() => {\n",
              "      const buttonEl =\n",
              "        document.querySelector('#id_ab9c327d-804d-4527-8d28-63159a9d91cf button.colab-df-generate');\n",
              "      buttonEl.style.display =\n",
              "        google.colab.kernel.accessAllowed ? 'block' : 'none';\n",
              "\n",
              "      buttonEl.onclick = () => {\n",
              "        google.colab.notebook.generateWithVariable('weights_df');\n",
              "      }\n",
              "      })();\n",
              "    </script>\n",
              "  </div>\n",
              "\n",
              "    </div>\n",
              "  </div>\n"
            ],
            "application/vnd.google.colaboratory.intrinsic+json": {
              "type": "dataframe",
              "variable_name": "weights_df",
              "summary": "{\n  \"name\": \"weights_df\",\n  \"rows\": 5,\n  \"fields\": [\n    {\n      \"column\": \"Asset\",\n      \"properties\": {\n        \"dtype\": \"string\",\n        \"num_unique_values\": 5,\n        \"samples\": [\n          \"APOLLO_TYRES.BSE\",\n          \"ITC.BSE\",\n          \"DECCAN_HEALTH.BSE\"\n        ],\n        \"semantic_type\": \"\",\n        \"description\": \"\"\n      }\n    },\n    {\n      \"column\": \"Optimal Weight\",\n      \"properties\": {\n        \"dtype\": \"number\",\n        \"std\": 1.5285965410130353,\n        \"min\": -1.7625429275899964,\n        \"max\": 2.310410525762278,\n        \"num_unique_values\": 5,\n        \"samples\": [\n          0.6858007053758031,\n          -0.6664941039726529,\n          -1.7625429275899964\n        ],\n        \"semantic_type\": \"\",\n        \"description\": \"\"\n      }\n    }\n  ]\n}"
            }
          },
          "metadata": {},
          "execution_count": 42
        }
      ]
    },
    {
      "cell_type": "code",
      "source": [
        "expected_return=np.dot(optimal_weights.T,mean_return)\n",
        "expected_return#Verified the solution"
      ],
      "metadata": {
        "colab": {
          "base_uri": "https://localhost:8080/"
        },
        "id": "6knIYAcyFfPC",
        "outputId": "8873de09-2894-4067-d70c-d002a2706687"
      },
      "execution_count": 43,
      "outputs": [
        {
          "output_type": "execute_result",
          "data": {
            "text/plain": [
              "-1.1616647497627137"
            ]
          },
          "metadata": {},
          "execution_count": 43
        }
      ]
    },
    {
      "cell_type": "code",
      "source": [
        "Risk_value=np.sqrt(np.dot(optimal_weights.T,np.dot(cov_matrix,optimal_weights)))\n",
        "print(f\"Minimum Risk(%) : {Risk_value}\")"
      ],
      "metadata": {
        "colab": {
          "base_uri": "https://localhost:8080/"
        },
        "id": "YkYVQm3K63cr",
        "outputId": "1bccd99a-79b4-48fe-ac48-f1ae6eab0992"
      },
      "execution_count": 46,
      "outputs": [
        {
          "output_type": "stream",
          "name": "stdout",
          "text": [
            "Minimum Risk(%) : 5.49872150222668\n"
          ]
        }
      ]
    },
    {
      "cell_type": "markdown",
      "source": [
        "# Markowitz Curve"
      ],
      "metadata": {
        "id": "m5tR-gRCFy5q"
      }
    },
    {
      "cell_type": "code",
      "source": [
        "returns=np.linspace(-0.8,3,10000)\n",
        "risk_values=[]\n",
        "\n",
        "for return_value in returns:\n",
        "\n",
        "  A=mean_return.T@cov_matrix_inv@e\n",
        "  B=e.T@cov_matrix_inv@e\n",
        "  C=mean_return.T@cov_matrix_inv@mean_return\n",
        "  D=e.T@cov_matrix_inv@mean_return\n",
        "  den_det=np.linalg.det(np.array([[C,A],[D,B]]))\n",
        "  lambda1=np.linalg.det(np.array([[2*return_value,A],[2,B]]))/den_det\n",
        "  lambda2=np.linalg.det(np.array([[C,2*return_value],[D,2]]))/den_det\n",
        "  optimal_w=0.5*(lambda1*(cov_matrix_inv@mean_return)+lambda2*(cov_matrix_inv@e))\n",
        "  risk_value=np.sqrt(np.dot(optimal_w.T,np.dot(cov_matrix,optimal_w)))\n",
        "  risk_values.append(risk_value)\n",
        "\n",
        "min_risk_idx=np.argmin(risk_values)\n",
        "min_risk_return=returns[min_risk_idx]\n",
        "min_risk_value=risk_values[min_risk_idx]\n"
      ],
      "metadata": {
        "id": "E488HLqx63fT"
      },
      "execution_count": 23,
      "outputs": []
    },
    {
      "cell_type": "code",
      "source": [
        "plt.figure(figsize=(10,6))\n",
        "plt.plot(risk_values,returns,color='b',linestyle='-',label='Efficient Frontier')\n",
        "plt.scatter(min_risk_value,min_risk_return,color='r',s=100,label='Minimum Variance Point')\n",
        "plt.xlabel('Risk')\n",
        "plt.ylabel('Return')\n",
        "plt.title('Markowitz Efficient Frontier')\n",
        "plt.legend()\n",
        "plt.grid(True)\n",
        "plt.show()\n",
        "print(f\"Minimum Variance Point: Return={min_risk_return}, Risk={min_risk_value}\")"
      ],
      "metadata": {
        "colab": {
          "base_uri": "https://localhost:8080/",
          "height": 581
        },
        "id": "NqV4mnQa63h9",
        "outputId": "9d61f4a0-c20e-41be-a1b7-2fd2f7fa78ea"
      },
      "execution_count": 24,
      "outputs": [
        {
          "output_type": "display_data",
          "data": {
            "text/plain": [
              "<Figure size 1000x600 with 1 Axes>"
            ],
            "image/png": "[encoded data removed]"
          },
          "metadata": {}
        },
        {
          "output_type": "stream",
          "name": "stdout",
          "text": [
            "Minimum Variance Point: Return=-0.3416741674167417, Risk=0.8780054184747671\n"
          ]
        }
      ]
    },
    {
      "cell_type": "markdown",
      "source": [
        "# Market Portfolio(Market Point & Sharpe Ratio)"
      ],
      "metadata": {
        "id": "vKiakVVojwyY"
      }
    },
    {
      "cell_type": "code",
      "source": [
        "return_f=-1#(It is taken negative to cope with the bearish market so that CML still corresponds with Markowitz curve)\n",
        "w_mt=np.dot(cov_matrix_inv,(mean_return-return_f*e))/np.dot(e.T,np.dot(cov_matrix_inv,(mean_return-return_f*e)))"
      ],
      "metadata": {
        "id": "rV3Ajuiq63kv"
      },
      "execution_count": 25,
      "outputs": []
    },
    {
      "cell_type": "code",
      "source": [
        "risk_mt=np.sqrt(np.dot(w_mt.T,np.dot(cov_matrix,w_mt)))\n",
        "return_mt=np.dot(w_mt.T,mean_return)\n",
        "print(risk_mt)\n",
        "print(return_mt)"
      ],
      "metadata": {
        "colab": {
          "base_uri": "https://localhost:8080/"
        },
        "id": "yvrj-19563nf",
        "outputId": "b13921d6-71b5-4381-95b2-9c044780c44a"
      },
      "execution_count": 26,
      "outputs": [
        {
          "output_type": "stream",
          "name": "stdout",
          "text": [
            "0.895646096339661\n",
            "-0.3148462217461554\n"
          ]
        }
      ]
    },
    {
      "cell_type": "code",
      "source": [
        "sharpe_ratio=(return_mt-return_f)/risk_mt\n",
        "print(f\"Sharpe Ratio:{sharpe_ratio}\")"
      ],
      "metadata": {
        "colab": {
          "base_uri": "https://localhost:8080/"
        },
        "id": "dYU5mySJSLl7",
        "outputId": "58107ae0-1280-4ead-bbcc-fae13b269070"
      },
      "execution_count": 30,
      "outputs": [
        {
          "output_type": "stream",
          "name": "stdout",
          "text": [
            "Sharpe Ratio:0.7649827103070517\n"
          ]
        }
      ]
    },
    {
      "cell_type": "code",
      "source": [
        "def CML(risk):\n",
        "  return return_f+((return_mt-return_f)/risk_mt)*risk"
      ],
      "metadata": {
        "id": "tEnusz_363qk"
      },
      "execution_count": 27,
      "outputs": []
    },
    {
      "cell_type": "code",
      "source": [
        "risk_vals=np.linspace(-0.8,3,1000)\n",
        "CML_vals=[CML(risk) for risk in risk_vals]"
      ],
      "metadata": {
        "id": "e2GeZAgUba_7"
      },
      "execution_count": 28,
      "outputs": []
    },
    {
      "cell_type": "code",
      "source": [
        "plt.figure(figsize=(10,6))\n",
        "plt.plot(risk_vals,CML_vals,color='b',linestyle='-',label='Capital Market Line')\n",
        "plt.scatter(risk_mt,return_mt,color='r',s=10,label='Market Point')\n",
        "plt.plot(risk_values,returns,color='orange',linestyle='-',label='Efficient Frontier')\n",
        "plt.scatter(min_risk_value,min_risk_return,color='g',s=10,label='Minimum Variance Point')\n",
        "plt.xlabel('Risk')\n",
        "plt.xlim(0,2)\n",
        "plt.ylabel('Return')\n",
        "plt.title('Capital Market Line')\n",
        "plt.legend()\n",
        "plt.grid(True)\n",
        "plt.show()\n",
        "print(f\"Market Point: Return={return_mt}, Risk={risk_mt}\")"
      ],
      "metadata": {
        "colab": {
          "base_uri": "https://localhost:8080/",
          "height": 581
        },
        "id": "8VXOpfHzbbCR",
        "outputId": "7d3d85f9-f810-477e-ea1a-190c5d894fcb"
      },
      "execution_count": 29,
      "outputs": [
        {
          "output_type": "display_data",
          "data": {
            "text/plain": [
              "<Figure size 1000x600 with 1 Axes>"
            ],
            "image/png": "[encoded data removed]"
          },
          "metadata": {}
        },
        {
          "output_type": "stream",
          "name": "stdout",
          "text": [
            "Market Point: Return=-0.3148462217461554, Risk=0.895646096339661\n"
          ]
        }
      ]
    },
    {
      "cell_type": "markdown",
      "source": [
        "# Beta of Portfolio"
      ],
      "metadata": {
        "id": "sbUr8ZmPSufV"
      }
    },
    {
      "cell_type": "code",
      "source": [
        "#SML:return=return_f+(return_mt-return_f)*beta\n",
        "#Beta of Portfolio=sum of(wi*beta_i)\n",
        "def individual_beta(mean):\n",
        "  return (mean-return_f)/(return_mt-return_f)\n",
        "\n",
        "beta_assets=[]\n",
        "for i in range(len(mean_return)):\n",
        "  beta_assets.append(individual_beta(mean_return[i]))\n",
        "\n",
        "beta_of_portfolio=np.dot(optimal_weights,beta_assets)\n",
        "print(f\"Beta of The Portfolio:{beta_of_portfolio}\")\n"
      ],
      "metadata": {
        "colab": {
          "base_uri": "https://localhost:8080/"
        },
        "id": "e-o8cUmpSuBH",
        "outputId": "14353023-5773-47c3-bab8-79b3b63d9881"
      },
      "execution_count": 33,
      "outputs": [
        {
          "output_type": "stream",
          "name": "stdout",
          "text": [
            "Beta of The Portfolio:0.9600756348970776\n"
          ]
        },
        {
          "output_type": "stream",
          "name": "stderr",
          "text": [
            "<ipython-input-33-92c37ddf8f06>:8: FutureWarning: Series.__getitem__ treating keys as positions is deprecated. In a future version, integer keys will always be treated as labels (consistent with DataFrame behavior). To access a value by position, use `ser.iloc[pos]`\n",
            "  beta_assets.append(individual_beta(mean_return[i]))\n"
          ]
        }
      ]
    },
    {
      "cell_type": "markdown",
      "source": [
        "\n",
        "\n",
        "\n",
        "\n",
        "\n",
        "# MAD"
      ],
      "metadata": {
        "id": "zD183VBIs6HV"
      }
    },
    {
      "cell_type": "markdown",
      "source": [
        "## Short Selling Allowed"
      ],
      "metadata": {
        "id": "lHBYNAepVsMz"
      }
    },
    {
      "cell_type": "code",
      "source": [
        "import numpy as np\n",
        "from scipy.optimize import linprog\n",
        "\n",
        "\n",
        "T = 21  # Number of time periods (example)\n",
        "n = 5 # Number of assets (example)\n",
        "\n",
        "r=df.pivot(index='Date',columns='Asset',values='Rate of Return (%)')\n",
        "r=r.to_numpy()\n",
        "r\n",
        "mu=mean_return\n",
        "\n",
        "\n",
        "# Decision variables: y_t (T), w_j (n)\n",
        "c = np.concatenate([np.zeros(T), np.ones(n)])  # Objective function coefficients (for min 1/T sum y_t + w_j's)\n",
        "\n",
        "# Create A_ub matrix for constraints\n",
        "A_ub = []\n",
        "b_ub = []\n",
        "\n",
        "# Constraints 1 and 2: y_t >= sum_j (rjt - mu_j) * w_j and y_t >= -sum_j (rjt - mu_j) * w_j\n",
        "for t in range(T):\n",
        "    row = np.zeros(T + n)\n",
        "    row[t] = -1  # Corresponding to y_t\n",
        "    row[T + np.arange(n)] = r[t] - mu  # Corresponding to w_j * (rjt - mu_j)\n",
        "    A_ub.append(row)\n",
        "    b_ub.append(0)\n",
        "\n",
        "    row = np.zeros(T + n)\n",
        "    row[t] = -1  # Corresponding to y_t\n",
        "    row[T + np.arange(n)] = -(r[t] - mu)  # Corresponding to w_j * -(rjt - mu_j)\n",
        "    A_ub.append(row)\n",
        "    b_ub.append(0)\n",
        "\n",
        "# Constraint 3: sum(w_j) = 1\n",
        "A_eq = np.zeros((1, T + n))\n",
        "A_eq[0, T:] = 1  # sum of w_j (for all j)\n",
        "b_eq = [1]  # sum(w_j) = 1\n",
        "\n",
        "\n",
        "\n",
        "\n",
        "bounds = [(None, None)] * T + [(None, None)] * n  # y_t can be any real number, w_j can be any real number\n",
        "\n",
        "# Solve the linear programming problem\n",
        "result = linprog(c, A_ub=np.array(A_ub), b_ub=np.array(b_ub), A_eq=A_eq, b_eq=b_eq, bounds=bounds, method='highs')\n",
        "\n",
        "# Display the result\n",
        "if result.success:\n",
        "    print(\"Optimal value:\", result.fun)\n",
        "    print(\"Optimal y_t values:\", result.x[:T])\n",
        "    print(\"Optimal w_j values:\", result.x[T:])\n",
        "else:\n",
        "    print(\"Optimization failed:\", result.message)\n"
      ],
      "metadata": {
        "colab": {
          "base_uri": "https://localhost:8080/"
        },
        "id": "5RAdS3_sVvJ5",
        "outputId": "2214ee02-4d9b-4a91-e87d-57e24048bb06"
      },
      "execution_count": 47,
      "outputs": [
        {
          "output_type": "stream",
          "name": "stdout",
          "text": [
            "Optimal value: 1.0\n",
            "Optimal y_t values: [1.7940017  0.11177618 2.66227876 5.30409751 0.07891907 0.98659364\n",
            " 0.79647108 0.89399416 0.52191362 0.26283938 2.03605767 0.0789634\n",
            " 1.9238145  3.47468894 0.74497328 0.0768578  4.42115596 4.30252085\n",
            " 1.80362068 4.78096462 0.36806035]\n",
            "Optimal w_j values: [1. 0. 0. 0. 0.]\n"
          ]
        }
      ]
    },
    {
      "cell_type": "code",
      "source": [
        "MAD_return=result.x[T:]@mean_return\n",
        "MAD_risk=1/T*np.sum(result.x[:T])\n",
        "print(MAD_return)\n",
        "print(MAD_risk)"
      ],
      "metadata": {
        "colab": {
          "base_uri": "https://localhost:8080/"
        },
        "id": "L66coOJRWHq0",
        "outputId": "a1bd715b-4d51-4e39-f417-2d30fa2a3bd8"
      },
      "execution_count": 48,
      "outputs": [
        {
          "output_type": "stream",
          "name": "stdout",
          "text": [
            "-0.3395702627412559\n",
            "1.7821220546557444\n"
          ]
        }
      ]
    },
    {
      "cell_type": "markdown",
      "source": [
        "## Total Return=(3/5)*(Sum of Expected Returns)"
      ],
      "metadata": {
        "id": "Wy2WZOFrWiF8"
      }
    },
    {
      "cell_type": "code",
      "source": [
        "import numpy as np\n",
        "from scipy.optimize import linprog\n",
        "\n",
        "\n",
        "T = 21  # Number of time periods (example)\n",
        "n = 5 # Number of assets (example)\n",
        "k = (3/5)*np.sum(mean_return) # Constant k (example)\n",
        "r=df.pivot(index='Date',columns='Asset',values='Rate of Return (%)')\n",
        "r=r.to_numpy()\n",
        "r\n",
        "mu=mean_return\n",
        "\n",
        "\n",
        "# Decision variables: y_t (T), w_j (n)\n",
        "c = np.concatenate([np.zeros(T), np.ones(n)])  # Objective function coefficients (for min 1/T sum y_t + w_j's)\n",
        "\n",
        "# Create A_ub matrix for constraints\n",
        "A_ub = []\n",
        "b_ub = []\n",
        "\n",
        "# Constraints 1 and 2: y_t >= sum_j (rjt - mu_j) * w_j and y_t >= -sum_j (rjt - mu_j) * w_j\n",
        "for t in range(T):\n",
        "    row = np.zeros(T + n)\n",
        "    row[t] = -1  # Corresponding to y_t\n",
        "    row[T + np.arange(n)] = r[t] - mu  # Corresponding to w_j * (rjt - mu_j)\n",
        "    A_ub.append(row)\n",
        "    b_ub.append(0)\n",
        "\n",
        "    row = np.zeros(T + n)\n",
        "    row[t] = -1  # Corresponding to y_t\n",
        "    row[T + np.arange(n)] = -(r[t] - mu)  # Corresponding to w_j * -(rjt - mu_j)\n",
        "    A_ub.append(row)\n",
        "    b_ub.append(0)\n",
        "\n",
        "# Constraint 3: sum(w_j) = 1\n",
        "A_eq = np.zeros((1, T + n))\n",
        "A_eq[0, T:] = 1  # sum of w_j (for all j)\n",
        "b_eq = [1]  # sum(w_j) = 1\n",
        "\n",
        "# Constraint 4: mu^T w >= k\n",
        "A_ub.append(np.concatenate([np.zeros(T), mu]))  # mu^T w\n",
        "b_ub.append(k)\n",
        "\n",
        "# Constraint 5: w_j >= 0 for all j\n",
        "bounds = [(None, None)] * T + [(None, None)] * n  # y_t can be any real number, w_j can be any real number\n",
        "\n",
        "# Solve the linear programming problem\n",
        "result = linprog(c, A_ub=np.array(A_ub), b_ub=np.array(b_ub), A_eq=A_eq, b_eq=b_eq, bounds=bounds, method='highs')\n",
        "\n",
        "# Display the result\n",
        "if result.success:\n",
        "    print(\"Optimal value:\", result.fun)\n",
        "    print(\"Optimal y_t values:\", result.x[:T])\n",
        "    print(\"Optimal w_j values:\", result.x[T:])\n",
        "else:\n",
        "    print(\"Optimization failed:\", result.message)\n"
      ],
      "metadata": {
        "colab": {
          "base_uri": "https://localhost:8080/"
        },
        "id": "TfMsy2NRbbEm",
        "outputId": "70c3ef5f-d818-43b0-b4cb-9c4e2bdc3216"
      },
      "execution_count": 49,
      "outputs": [
        {
          "output_type": "stream",
          "name": "stdout",
          "text": [
            "Optimal value: 1.0000000000000002\n",
            "Optimal y_t values: [11.31580789  2.22520161  0.86912187  0.09601022  3.85938331  7.1141691\n",
            "  2.94045231  4.6462739  11.54144162  4.42806413  1.80842312  1.64849049\n",
            "  0.44001925  5.93629943  0.09527162 12.68706138  0.70910721  3.85214722\n",
            "  3.16998194  6.03274426  4.8669581 ]\n",
            "Optimal w_j values: [ 0.          0.         -1.64970619  2.64970619  0.        ]\n"
          ]
        }
      ]
    },
    {
      "cell_type": "code",
      "source": [
        "MAD_return=result.x[T:]@mean_return\n",
        "MAD_risk=1/T*np.sum(result.x[:T])\n",
        "print(MAD_return)\n",
        "print(MAD_risk)"
      ],
      "metadata": {
        "colab": {
          "base_uri": "https://localhost:8080/"
        },
        "id": "iOY4C35nbbHN",
        "outputId": "11d4ec85-4c16-4c0f-bde2-db36c817f48c"
      },
      "execution_count": 50,
      "outputs": [
        {
          "output_type": "stream",
          "name": "stdout",
          "text": [
            "-1.1616647497627168\n",
            "4.299163332290565\n"
          ]
        }
      ]
    },
    {
      "cell_type": "markdown",
      "source": [
        "#MINMAX"
      ],
      "metadata": {
        "id": "vJ4Ya5QcXTpZ"
      }
    },
    {
      "cell_type": "markdown",
      "source": [
        "## Short Selling Allowed"
      ],
      "metadata": {
        "id": "hI5tKz4pi6LK"
      }
    },
    {
      "cell_type": "code",
      "source": [
        "import numpy as np\n",
        "from scipy.optimize import linprog\n",
        "\n",
        "T = 21  # Number of time periods\n",
        "n = 5   # Number of assets\n",
        "\n",
        "r = df.pivot(index='Date', columns='Asset', values='Rate of Return (%)').to_numpy()\n",
        "mu = mean_return\n",
        "\n",
        "# Decision variables: y, w_1, w_2, ..., w_n\n",
        "# Objective function: Maximize y  => Minimize -y\n",
        "c = np.concatenate([[-1], np.zeros(n)])\n",
        "\n",
        "# Inequality constraints (A_ub * x <= b_ub)\n",
        "A_ub = []\n",
        "b_ub = []\n",
        "\n",
        "for t in range(T):\n",
        "    row1 = np.zeros(n + 1)\n",
        "    row1[0] = 1  # Corresponding to -y\n",
        "    row1[1:] = np.abs((r[t] - mu)) / T  # Corresponding to (rjt - mu_j) * w_j / T\n",
        "    A_ub.append(row1)\n",
        "    b_ub.append(0)\n",
        "\n",
        "\n",
        "\n",
        "# Equality constraint (A_eq * x == b_eq)\n",
        "A_eq = [[0, 1, 1, 1, 1, 1]]  # sum of w_j = 1\n",
        "b_eq = [1]\n",
        "\n",
        "\n",
        "\n",
        "# Bounds for variables\n",
        "bounds = [(None, None)] + [(0, None)] * n  # y is unbounded, w can be any real number\n",
        "\n",
        "# Solve the LPP\n",
        "result = linprog(c, A_ub=A_ub, b_ub=b_ub, A_eq=A_eq, b_eq=b_eq, bounds=bounds, method='highs')\n",
        "\n",
        "# Display the results\n",
        "if result.success:\n",
        "    print(\"Optimal value (y):\", -result.fun)  # Since we minimized -y\n",
        "    print(\"Optimal weights (w):\", result.x[1:])\n",
        "else:\n",
        "    print(\"Optimization failed:\", result.message)"
      ],
      "metadata": {
        "colab": {
          "base_uri": "https://localhost:8080/"
        },
        "id": "pvKedALCi-QD",
        "outputId": "0d3ef83d-50cc-42f0-aabf-ba674bab300f"
      },
      "execution_count": 102,
      "outputs": [
        {
          "output_type": "stream",
          "name": "stdout",
          "text": [
            "Optimal value (y): -0.08656704845014726\n",
            "Optimal weights (w): [0.03412745 0.34106118 0.07672113 0.         0.54809024]\n"
          ]
        }
      ]
    },
    {
      "cell_type": "code",
      "source": [
        "MINMAX_risk=result.fun\n",
        "print(f\"MINMAX Risk:{MINMAX_risk}\")\n"
      ],
      "metadata": {
        "colab": {
          "base_uri": "https://localhost:8080/"
        },
        "id": "FmxCmudYXogX",
        "outputId": "97e8ad24-5c73-4f2f-8ad9-7b557e4bec78"
      },
      "execution_count": 91,
      "outputs": [
        {
          "output_type": "stream",
          "name": "stdout",
          "text": [
            "MINMAX Risk:0.08548738852626421\n"
          ]
        }
      ]
    },
    {
      "cell_type": "markdown",
      "source": [
        "## Total Return=(3/5)*(Sum of Expected Returns)"
      ],
      "metadata": {
        "id": "qLrqrLhwYyhl"
      }
    },
    {
      "cell_type": "code",
      "source": [
        "import numpy as np\n",
        "from scipy.optimize import linprog\n",
        "\n",
        "T = 21  # Number of time periods\n",
        "n = 5   # Number of assets\n",
        "k = (3/5) * np.sum(mean_return)  # Constant k\n",
        "r = df.pivot(index='Date', columns='Asset', values='Rate of Return (%)').to_numpy()\n",
        "mu = mean_return\n",
        "\n",
        "# Decision variables: y, w_1, w_2, ..., w_n\n",
        "# Objective function: Maximize y  => Minimize -y\n",
        "c = np.concatenate([[-1], np.zeros(n)])\n",
        "\n",
        "# Inequality constraints (A_ub * x <= b_ub)\n",
        "A_ub = []\n",
        "b_ub = []\n",
        "\n",
        "for t in range(T):\n",
        "    row1 = np.zeros(n + 1)\n",
        "    row1[0] = 1  # Corresponding to -y\n",
        "    row1[1:] = np.abs((r[t] - mu)) / T  # Corresponding to (rjt - mu_j) * w_j / T\n",
        "    A_ub.append(row1)\n",
        "    b_ub.append(0)\n",
        "\n",
        "# Equality constraint (A_eq * x == b_eq)\n",
        "A_eq = [[0, 1, 1, 1, 1, 1]]  # sum of w_j = 1\n",
        "b_eq = [1]\n",
        "\n",
        "# Additional constraint: mu.T * w >= k\n",
        "A_ub.append(np.concatenate([[0], -mu]))  # -mu.T * w <= -k\n",
        "b_ub.append(-k)\n",
        "\n",
        "# Bounds for variables\n",
        "bounds = [(None, None)] + [(None, None)] * n  # y is unbounded, w can be any real number\n",
        "\n",
        "# Solve the LPP\n",
        "result = linprog(c, A_ub=A_ub, b_ub=b_ub, A_eq=A_eq, b_eq=b_eq, bounds=bounds, method='highs')\n",
        "\n",
        "# Display the results\n",
        "if result.success:\n",
        "    print(\"Optimal value (y):\", -result.fun)  # Since we minimized -y\n",
        "    print(\"Optimal weights (w):\", result.x[1:])\n",
        "else:\n",
        "    print(\"Optimization failed:\", result.message)"
      ],
      "metadata": {
        "colab": {
          "base_uri": "https://localhost:8080/"
        },
        "id": "Eh2VZJDnXobL",
        "outputId": "dbf71e63-4255-4c01-b94b-45675818eb0c"
      },
      "execution_count": 90,
      "outputs": [
        {
          "output_type": "stream",
          "name": "stdout",
          "text": [
            "Optimal value (y): -0.08548738852626421\n",
            "Optimal weights (w): [ 0.02110068  0.36380639  0.07508444 -0.01653891  0.55654741]\n"
          ]
        }
      ]
    },
    {
      "cell_type": "code",
      "source": [
        "print(np.sum(result.x[1:]))#Verification"
      ],
      "metadata": {
        "colab": {
          "base_uri": "https://localhost:8080/"
        },
        "id": "IGVjXKG-Xodn",
        "outputId": "5d562b68-c029-4932-fab1-27b9f95ffc0c"
      },
      "execution_count": 84,
      "outputs": [
        {
          "output_type": "stream",
          "name": "stdout",
          "text": [
            "1.0\n"
          ]
        }
      ]
    },
    {
      "cell_type": "code",
      "source": [
        "MINMAX_risk=result.fun\n",
        "print(f\"MINMAX Risk:{MINMAX_risk}\")"
      ],
      "metadata": {
        "colab": {
          "base_uri": "https://localhost:8080/"
        },
        "id": "Ly8s2P4blj95",
        "outputId": "f1d8a74f-dd7d-4370-96f0-a156ff5bd9b4"
      },
      "execution_count": 103,
      "outputs": [
        {
          "output_type": "stream",
          "name": "stdout",
          "text": [
            "MINMAX Risk:0.08656704845014726\n"
          ]
        }
      ]
    },
    {
      "cell_type": "markdown",
      "source": [
        "# CVaR Estimation"
      ],
      "metadata": {
        "id": "k0f1_TpqW_AL"
      }
    },
    {
      "cell_type": "code",
      "source": [
        "confidence_level = 0.95\n",
        "losses = -mean_return\n",
        "VaR = np.percentile(losses, (1 - confidence_level) * 100)\n",
        "print(\"Value-at-Risk (VaR) for MAD Model:\", VaR)"
      ],
      "metadata": {
        "id": "PNoyqKelbbJm",
        "colab": {
          "base_uri": "https://localhost:8080/"
        },
        "outputId": "f0e19bb1-cbfc-4e69-96e0-0d49724eaedd"
      },
      "execution_count": 51,
      "outputs": [
        {
          "output_type": "stream",
          "name": "stdout",
          "text": [
            "Value-at-Risk (VaR) for MAD Model: 0.2648699067364098\n"
          ]
        }
      ]
    },
    {
      "cell_type": "code",
      "source": [
        "CVaR = losses[losses <= VaR].mean()\n",
        "print(f\"Conditional Value at Risk (CVaR) for 95% confidence level : {CVaR}\")"
      ],
      "metadata": {
        "id": "jptyV65ubbMK",
        "colab": {
          "base_uri": "https://localhost:8080/"
        },
        "outputId": "926a67be-469a-467e-d0dd-bd152780d126"
      },
      "execution_count": 52,
      "outputs": [
        {
          "output_type": "stream",
          "name": "stdout",
          "text": [
            "Conditional Value at Risk (CVaR) for 95% confidence level : 0.25265134444102333\n"
          ]
        }
      ]
    },
    {
      "cell_type": "markdown",
      "source": [
        "# MOP"
      ],
      "metadata": {
        "id": "gGZw8JBHZKdu"
      }
    },
    {
      "cell_type": "markdown",
      "source": [
        "## Variance Risk"
      ],
      "metadata": {
        "id": "NUp07j_4k4j6"
      }
    },
    {
      "cell_type": "code",
      "source": [
        "def portfolio_variance(weights, cov_matrix):\n",
        "    return weights.T @ cov_matrix @ weights"
      ],
      "metadata": {
        "id": "AOdWw5JtZ09L"
      },
      "execution_count": 53,
      "outputs": []
    },
    {
      "cell_type": "code",
      "source": [
        "def objective_function(weights, cov_matrix, expected_returns, risk_func, risk_weight, return_weight):\n",
        "    risk = risk_func(weights, cov_matrix)\n",
        "    portfolio_return = weights @ expected_returns\n",
        "    return risk_weight * risk - return_weight * portfolio_return"
      ],
      "metadata": {
        "id": "f_zC2MxCZ0_x"
      },
      "execution_count": 54,
      "outputs": []
    },
    {
      "cell_type": "code",
      "source": [
        "from scipy.optimize import minimize\n",
        "constraints = (\n",
        "    {'type': 'eq', 'fun': lambda x: np.sum(x) - 1},\n",
        ")\n",
        "\n",
        "n_assets=len(mean_return)\n",
        "bounds = tuple((0, 1) for _ in range(n_assets))\n",
        "\n",
        "\n",
        "def optimize_portfolio(risk_func, risk_weight, return_weight):\n",
        "    x0 = np.array(n_assets * [1. / n_assets])\n",
        "    result = minimize(\n",
        "        objective_function,\n",
        "        x0,\n",
        "        args=(cov_matrix, mean_return, risk_func, risk_weight, return_weight),\n",
        "        method='SLSQP',\n",
        "        bounds=bounds,\n",
        "        constraints=constraints\n",
        "    )\n",
        "    if result.success:\n",
        "        optimized_weights = result.x\n",
        "        optimized_risk = risk_func(optimized_weights, cov_matrix)\n",
        "        optimized_return = optimized_weights @ mean_return\n",
        "        return optimized_weights, optimized_risk, optimized_return\n",
        "    else:\n",
        "        raise BaseException(result.message)"
      ],
      "metadata": {
        "id": "a94FwQztZ1CC"
      },
      "execution_count": 55,
      "outputs": []
    },
    {
      "cell_type": "code",
      "source": [
        "weights, risk, ret = optimize_portfolio(portfolio_variance, 1/3, 2/3)"
      ],
      "metadata": {
        "id": "G6u2G7olZ1Gk"
      },
      "execution_count": 57,
      "outputs": []
    },
    {
      "cell_type": "code",
      "source": [
        "print(\"Optimal weights: \")\n",
        "print(weights)\n",
        "print(\"Risk: \", risk)\n",
        "print(\"Return: \", ret)\n"
      ],
      "metadata": {
        "colab": {
          "base_uri": "https://localhost:8080/"
        },
        "id": "Gv80at4cZ1I3",
        "outputId": "650cd4c3-6733-4ee0-f31b-ed32d57996fe"
      },
      "execution_count": 61,
      "outputs": [
        {
          "output_type": "stream",
          "name": "stdout",
          "text": [
            "Optimal weights: \n",
            "[5.63785130e-18 0.00000000e+00 1.90871115e-01 1.46445501e-01\n",
            " 6.62683384e-01]\n",
            "Risk:  0.7934989887718467\n",
            "Return:  -0.32012233277985525\n"
          ]
        }
      ]
    },
    {
      "cell_type": "markdown",
      "source": [
        "## MAD Risk"
      ],
      "metadata": {
        "id": "vZyAR_dCk7nW"
      }
    },
    {
      "cell_type": "code",
      "source": [
        "def portfolio_MAD(weights, mean_return):\n",
        "    x=np.sum(weights*mean_return)\n",
        "    return np.mean(np.abs(x-np.mean(x)))"
      ],
      "metadata": {
        "id": "MQSvILNrb_dd"
      },
      "execution_count": 64,
      "outputs": []
    },
    {
      "cell_type": "code",
      "source": [
        "def objective_function(weights,mean_return, expected_returns, risk_func, risk_weight, return_weight):\n",
        "    risk = risk_func(weights, mean_return)\n",
        "    portfolio_return = weights @ expected_returns\n",
        "    return risk_weight * risk - return_weight * portfolio_return"
      ],
      "metadata": {
        "id": "SuN3ZBFPco7L"
      },
      "execution_count": 65,
      "outputs": []
    },
    {
      "cell_type": "code",
      "source": [
        "from scipy.optimize import minimize\n",
        "constraints = (\n",
        "    {'type': 'eq', 'fun': lambda x: np.sum(x) - 1},\n",
        ")\n",
        "\n",
        "n_assets=len(mean_return)\n",
        "bounds = tuple((0, 1) for _ in range(n_assets))\n",
        "\n",
        "\n",
        "def optimize_portfolio(risk_func, risk_weight, return_weight):\n",
        "    x0 = np.array(n_assets * [1. / n_assets])\n",
        "    result = minimize(\n",
        "        objective_function,\n",
        "        x0,\n",
        "        args=( weights,mean_return, risk_func, risk_weight, return_weight),\n",
        "        method='SLSQP',\n",
        "        bounds=bounds,\n",
        "        constraints=constraints\n",
        "    )\n",
        "    if result.success:\n",
        "        optimized_weights = result.x\n",
        "        optimized_risk = risk_func(optimized_weights, mean_return)\n",
        "        optimized_return = optimized_weights @ mean_return\n",
        "        return optimized_weights, optimized_risk, optimized_return\n",
        "    else:\n",
        "        raise BaseException(result.message)"
      ],
      "metadata": {
        "id": "DVyCMzK5c1aC"
      },
      "execution_count": 75,
      "outputs": []
    },
    {
      "cell_type": "code",
      "source": [
        "weights, risk, ret = optimize_portfolio(portfolio_MAD, 1/3, 2/3)"
      ],
      "metadata": {
        "id": "ewXe4aM-dCSB"
      },
      "execution_count": 76,
      "outputs": []
    },
    {
      "cell_type": "code",
      "source": [
        "print(\"Optimal weights: \")\n",
        "print(weights)\n",
        "print(\"Risk: \", risk)\n",
        "print(\"Return: \", ret)"
      ],
      "metadata": {
        "colab": {
          "base_uri": "https://localhost:8080/"
        },
        "id": "0LS9-yULddnn",
        "outputId": "8f0f7511-6a9f-4903-b1d1-3ad10ea3460a"
      },
      "execution_count": 77,
      "outputs": [
        {
          "output_type": "stream",
          "name": "stdout",
          "text": [
            "Optimal weights: \n",
            "[1.98602732e-16 3.52434888e-16 0.00000000e+00 3.51988268e-16\n",
            " 1.00000000e+00]\n",
            "Risk:  0.0\n",
            "Return:  -0.2526513444410237\n"
          ]
        }
      ]
    }
  ]
}